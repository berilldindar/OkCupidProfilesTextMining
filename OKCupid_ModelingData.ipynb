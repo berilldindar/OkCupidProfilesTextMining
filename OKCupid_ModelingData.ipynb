{
  "nbformat": 4,
  "nbformat_minor": 0,
  "metadata": {
    "colab": {
      "name": "OKCupid_ModelingData.ipynb",
      "provenance": [],
      "collapsed_sections": [],
      "include_colab_link": true
    },
    "kernelspec": {
      "name": "python3",
      "display_name": "Python 3"
    },
    "language_info": {
      "name": "python"
    }
  },
  "cells": [
    {
      "cell_type": "markdown",
      "metadata": {
        "id": "view-in-github",
        "colab_type": "text"
      },
      "source": [
        "<a href=\"https://colab.research.google.com/github/berilldindar/OkCupidProfilesTextMining/blob/main/OKCupid_ModelingData.ipynb\" target=\"_parent\"><img src=\"https://colab.research.google.com/assets/colab-badge.svg\" alt=\"Open In Colab\"/></a>"
      ]
    },
    {
      "cell_type": "code",
      "source": [
        "from google.colab import drive\n",
        "drive.mount('/drive')\n",
        "%cd /drive"
      ],
      "metadata": {
        "colab": {
          "base_uri": "https://localhost:8080/"
        },
        "id": "0JHqrfijJksy",
        "outputId": "d6f1fbe9-9cd9-42ac-a9e2-1dd179666186"
      },
      "execution_count": null,
      "outputs": [
        {
          "output_type": "stream",
          "name": "stdout",
          "text": [
            "Mounted at /drive\n",
            "/drive\n"
          ]
        }
      ]
    },
    {
      "cell_type": "code",
      "source": [
        "import os\n",
        "os.chdir('/drive/My Drive/Text Mining')"
      ],
      "metadata": {
        "id": "VxtdmovhJxbn"
      },
      "execution_count": null,
      "outputs": []
    },
    {
      "cell_type": "code",
      "execution_count": null,
      "metadata": {
        "id": "1EgDrHT9HH6c"
      },
      "outputs": [],
      "source": [
        "# Makine öğrenmesi ve veri analizi için kullanacağımız kütüphaneleri yükleriz.\n",
        "%matplotlib inline\n",
        "import numpy as np\n",
        "import scipy as sp\n",
        "import matplotlib as mpl\n",
        "import matplotlib.cm as cm\n",
        "import matplotlib.pyplot as plt\n",
        "import pandas as pd\n",
        "import seaborn as sns\n",
        "\n",
        "pd.set_option('display.width', 500)\n",
        "pd.set_option('display.max_columns', 100)\n",
        "pd.set_option('display.notebook_repr_html', True)\n",
        "\n",
        "sns.set_style(\"whitegrid\")\n",
        "sns.set_context(\"poster\")"
      ]
    },
    {
      "cell_type": "code",
      "source": [
        "# Kullanım için .csv'yi veri çerçevesine yükledik\n",
        "df = pd.read_csv('new_df.csv')\n",
        "df = df.drop('Unnamed: 0', 1)\n",
        "df.head()"
      ],
      "metadata": {
        "colab": {
          "base_uri": "https://localhost:8080/",
          "height": 791
        },
        "id": "6FdVQKZTHm6y",
        "outputId": "0cdb1625-f41d-46b4-d74c-79248ba9fc66"
      },
      "execution_count": null,
      "outputs": [
        {
          "output_type": "stream",
          "name": "stderr",
          "text": [
            "/usr/local/lib/python3.7/dist-packages/ipykernel_launcher.py:3: FutureWarning: In a future version of pandas all arguments of DataFrame.drop except for the argument 'labels' will be keyword-only\n",
            "  This is separate from the ipykernel package so we can avoid doing imports until\n"
          ]
        },
        {
          "output_type": "execute_result",
          "data": {
            "text/plain": [
              "   age     status sex orientation       body_type               diet    drinks      drugs                          education            ethnicity  height   income                          job       last_online                         location                               offspring                       pets                                  religion                                sign     smokes                                             speaks  \\\n",
              "0   22     single   m    straight  a little extra  strictly anything  socially      never      working on college/university         asian, white    75.0     -1.0               transportation  2012-06-28-20-30  south san francisco, california  doesn't have kids, but might want them  likes dogs and likes cats     agnosticism and very serious about it                              gemini  sometimes                                            english   \n",
              "1   35     single   m    straight         average       mostly other     often  sometimes              working on space camp                white    70.0      NaN         hospitality / travel  2012-06-29-21-41              oakland, california  doesn't have kids, but might want them  likes dogs and likes cats  agnosticism but not too serious about it                              cancer         no  english (fluently), spanish (poorly), french (...   \n",
              "2   38  available   m    straight            thin           anything  socially        NaN     graduated from masters program                  NaN    68.0     -1.0                          NaN  2012-06-27-09-10        san francisco, california                                     NaN                   has cats                                       NaN  pisces but it doesn&rsquo;t matter         no                               english, french, c++   \n",
              "3   23     single   m    straight            thin         vegetarian  socially        NaN      working on college/university                white    71.0  20000.0                      student  2012-06-28-14-22             berkeley, california                       doesn't want kids                 likes cats                                       NaN                              pisces         no                           english, german (poorly)   \n",
              "4   29     single   m    straight        athletic                NaN  socially      never  graduated from college/university  asian, black, other    66.0     -1.0  artistic / musical / writer  2012-06-27-21-26        san francisco, california                                     NaN  likes dogs and likes cats                                       NaN                            aquarius         no                                            english   \n",
              "\n",
              "                                              essay0                                             essay1                                             essay2                                             essay3                                             essay4                                             essay5                       essay6                                             essay7                                             essay8                                             essay9  \n",
              "0  about me:  i would love to think that i was so...  currently working as an international agent fo...  making people laugh. ranting about a good salt...  the way i look. i am a six foot half asian, ha...  books: absurdistan, the republic, of mice and ...                  food. water. cell phone. shelter.  duality and humorous things  trying to find someone to hang out with. i am ...  i am new to california and looking for someone...  you want to be swept off your feet! you are ti...  \n",
              "1  i am a chef: this is what that means. 1. i am ...  dedicating everyday to being an unbelievable b...  being silly. having ridiculous amonts of fun w...                                                NaN  i am die hard christopher moore fan. i don't r...  delicious porkness in all of its glories. my b...                          NaN                                                NaN  i am very open and will share just about anyth...                                                NaN  \n",
              "2  i'm not ashamed of much, but writing public te...  i make nerdy software for musicians, artists, ...  improvising in different contexts. alternating...  my large jaw and large glasses are the physica...  okay this is where the cultural matrix gets so...  movement conversation creation contemplation t...                          NaN  viewing. listening. dancing. talking. drinking...  when i was five years old, i was known as \"the...  you are bright, open, intense, silly, ironic, ...  \n",
              "3          i work in a library and go to school. . .          reading things written by old dead people  playing synthesizers and organizing books acco...                  socially awkward but i do my best  bataille, celine, beckett. . . lynch, jarmusch...                                                NaN   cats and german philosophy                                                NaN                                                NaN                              you feel so inclined.  \n",
              "4  hey how's it going? currently vague on the pro...                         work work work work + play  creating imagery to look at: http://bagsbrown....            i smile a lot and my inquisitive nature  music: bands, rappers, musicians at the moment...                                                NaN                          NaN                                                NaN                                                NaN                                                NaN  "
            ],
            "text/html": [
              "\n",
              "  <div id=\"df-17d88c54-2d09-4b6d-9cdc-6b36e4cdbf44\">\n",
              "    <div class=\"colab-df-container\">\n",
              "      <div>\n",
              "<style scoped>\n",
              "    .dataframe tbody tr th:only-of-type {\n",
              "        vertical-align: middle;\n",
              "    }\n",
              "\n",
              "    .dataframe tbody tr th {\n",
              "        vertical-align: top;\n",
              "    }\n",
              "\n",
              "    .dataframe thead th {\n",
              "        text-align: right;\n",
              "    }\n",
              "</style>\n",
              "<table border=\"1\" class=\"dataframe\">\n",
              "  <thead>\n",
              "    <tr style=\"text-align: right;\">\n",
              "      <th></th>\n",
              "      <th>age</th>\n",
              "      <th>status</th>\n",
              "      <th>sex</th>\n",
              "      <th>orientation</th>\n",
              "      <th>body_type</th>\n",
              "      <th>diet</th>\n",
              "      <th>drinks</th>\n",
              "      <th>drugs</th>\n",
              "      <th>education</th>\n",
              "      <th>ethnicity</th>\n",
              "      <th>height</th>\n",
              "      <th>income</th>\n",
              "      <th>job</th>\n",
              "      <th>last_online</th>\n",
              "      <th>location</th>\n",
              "      <th>offspring</th>\n",
              "      <th>pets</th>\n",
              "      <th>religion</th>\n",
              "      <th>sign</th>\n",
              "      <th>smokes</th>\n",
              "      <th>speaks</th>\n",
              "      <th>essay0</th>\n",
              "      <th>essay1</th>\n",
              "      <th>essay2</th>\n",
              "      <th>essay3</th>\n",
              "      <th>essay4</th>\n",
              "      <th>essay5</th>\n",
              "      <th>essay6</th>\n",
              "      <th>essay7</th>\n",
              "      <th>essay8</th>\n",
              "      <th>essay9</th>\n",
              "    </tr>\n",
              "  </thead>\n",
              "  <tbody>\n",
              "    <tr>\n",
              "      <th>0</th>\n",
              "      <td>22</td>\n",
              "      <td>single</td>\n",
              "      <td>m</td>\n",
              "      <td>straight</td>\n",
              "      <td>a little extra</td>\n",
              "      <td>strictly anything</td>\n",
              "      <td>socially</td>\n",
              "      <td>never</td>\n",
              "      <td>working on college/university</td>\n",
              "      <td>asian, white</td>\n",
              "      <td>75.0</td>\n",
              "      <td>-1.0</td>\n",
              "      <td>transportation</td>\n",
              "      <td>2012-06-28-20-30</td>\n",
              "      <td>south san francisco, california</td>\n",
              "      <td>doesn't have kids, but might want them</td>\n",
              "      <td>likes dogs and likes cats</td>\n",
              "      <td>agnosticism and very serious about it</td>\n",
              "      <td>gemini</td>\n",
              "      <td>sometimes</td>\n",
              "      <td>english</td>\n",
              "      <td>about me:  i would love to think that i was so...</td>\n",
              "      <td>currently working as an international agent fo...</td>\n",
              "      <td>making people laugh. ranting about a good salt...</td>\n",
              "      <td>the way i look. i am a six foot half asian, ha...</td>\n",
              "      <td>books: absurdistan, the republic, of mice and ...</td>\n",
              "      <td>food. water. cell phone. shelter.</td>\n",
              "      <td>duality and humorous things</td>\n",
              "      <td>trying to find someone to hang out with. i am ...</td>\n",
              "      <td>i am new to california and looking for someone...</td>\n",
              "      <td>you want to be swept off your feet! you are ti...</td>\n",
              "    </tr>\n",
              "    <tr>\n",
              "      <th>1</th>\n",
              "      <td>35</td>\n",
              "      <td>single</td>\n",
              "      <td>m</td>\n",
              "      <td>straight</td>\n",
              "      <td>average</td>\n",
              "      <td>mostly other</td>\n",
              "      <td>often</td>\n",
              "      <td>sometimes</td>\n",
              "      <td>working on space camp</td>\n",
              "      <td>white</td>\n",
              "      <td>70.0</td>\n",
              "      <td>NaN</td>\n",
              "      <td>hospitality / travel</td>\n",
              "      <td>2012-06-29-21-41</td>\n",
              "      <td>oakland, california</td>\n",
              "      <td>doesn't have kids, but might want them</td>\n",
              "      <td>likes dogs and likes cats</td>\n",
              "      <td>agnosticism but not too serious about it</td>\n",
              "      <td>cancer</td>\n",
              "      <td>no</td>\n",
              "      <td>english (fluently), spanish (poorly), french (...</td>\n",
              "      <td>i am a chef: this is what that means. 1. i am ...</td>\n",
              "      <td>dedicating everyday to being an unbelievable b...</td>\n",
              "      <td>being silly. having ridiculous amonts of fun w...</td>\n",
              "      <td>NaN</td>\n",
              "      <td>i am die hard christopher moore fan. i don't r...</td>\n",
              "      <td>delicious porkness in all of its glories. my b...</td>\n",
              "      <td>NaN</td>\n",
              "      <td>NaN</td>\n",
              "      <td>i am very open and will share just about anyth...</td>\n",
              "      <td>NaN</td>\n",
              "    </tr>\n",
              "    <tr>\n",
              "      <th>2</th>\n",
              "      <td>38</td>\n",
              "      <td>available</td>\n",
              "      <td>m</td>\n",
              "      <td>straight</td>\n",
              "      <td>thin</td>\n",
              "      <td>anything</td>\n",
              "      <td>socially</td>\n",
              "      <td>NaN</td>\n",
              "      <td>graduated from masters program</td>\n",
              "      <td>NaN</td>\n",
              "      <td>68.0</td>\n",
              "      <td>-1.0</td>\n",
              "      <td>NaN</td>\n",
              "      <td>2012-06-27-09-10</td>\n",
              "      <td>san francisco, california</td>\n",
              "      <td>NaN</td>\n",
              "      <td>has cats</td>\n",
              "      <td>NaN</td>\n",
              "      <td>pisces but it doesn&amp;rsquo;t matter</td>\n",
              "      <td>no</td>\n",
              "      <td>english, french, c++</td>\n",
              "      <td>i'm not ashamed of much, but writing public te...</td>\n",
              "      <td>i make nerdy software for musicians, artists, ...</td>\n",
              "      <td>improvising in different contexts. alternating...</td>\n",
              "      <td>my large jaw and large glasses are the physica...</td>\n",
              "      <td>okay this is where the cultural matrix gets so...</td>\n",
              "      <td>movement conversation creation contemplation t...</td>\n",
              "      <td>NaN</td>\n",
              "      <td>viewing. listening. dancing. talking. drinking...</td>\n",
              "      <td>when i was five years old, i was known as \"the...</td>\n",
              "      <td>you are bright, open, intense, silly, ironic, ...</td>\n",
              "    </tr>\n",
              "    <tr>\n",
              "      <th>3</th>\n",
              "      <td>23</td>\n",
              "      <td>single</td>\n",
              "      <td>m</td>\n",
              "      <td>straight</td>\n",
              "      <td>thin</td>\n",
              "      <td>vegetarian</td>\n",
              "      <td>socially</td>\n",
              "      <td>NaN</td>\n",
              "      <td>working on college/university</td>\n",
              "      <td>white</td>\n",
              "      <td>71.0</td>\n",
              "      <td>20000.0</td>\n",
              "      <td>student</td>\n",
              "      <td>2012-06-28-14-22</td>\n",
              "      <td>berkeley, california</td>\n",
              "      <td>doesn't want kids</td>\n",
              "      <td>likes cats</td>\n",
              "      <td>NaN</td>\n",
              "      <td>pisces</td>\n",
              "      <td>no</td>\n",
              "      <td>english, german (poorly)</td>\n",
              "      <td>i work in a library and go to school. . .</td>\n",
              "      <td>reading things written by old dead people</td>\n",
              "      <td>playing synthesizers and organizing books acco...</td>\n",
              "      <td>socially awkward but i do my best</td>\n",
              "      <td>bataille, celine, beckett. . . lynch, jarmusch...</td>\n",
              "      <td>NaN</td>\n",
              "      <td>cats and german philosophy</td>\n",
              "      <td>NaN</td>\n",
              "      <td>NaN</td>\n",
              "      <td>you feel so inclined.</td>\n",
              "    </tr>\n",
              "    <tr>\n",
              "      <th>4</th>\n",
              "      <td>29</td>\n",
              "      <td>single</td>\n",
              "      <td>m</td>\n",
              "      <td>straight</td>\n",
              "      <td>athletic</td>\n",
              "      <td>NaN</td>\n",
              "      <td>socially</td>\n",
              "      <td>never</td>\n",
              "      <td>graduated from college/university</td>\n",
              "      <td>asian, black, other</td>\n",
              "      <td>66.0</td>\n",
              "      <td>-1.0</td>\n",
              "      <td>artistic / musical / writer</td>\n",
              "      <td>2012-06-27-21-26</td>\n",
              "      <td>san francisco, california</td>\n",
              "      <td>NaN</td>\n",
              "      <td>likes dogs and likes cats</td>\n",
              "      <td>NaN</td>\n",
              "      <td>aquarius</td>\n",
              "      <td>no</td>\n",
              "      <td>english</td>\n",
              "      <td>hey how's it going? currently vague on the pro...</td>\n",
              "      <td>work work work work + play</td>\n",
              "      <td>creating imagery to look at: http://bagsbrown....</td>\n",
              "      <td>i smile a lot and my inquisitive nature</td>\n",
              "      <td>music: bands, rappers, musicians at the moment...</td>\n",
              "      <td>NaN</td>\n",
              "      <td>NaN</td>\n",
              "      <td>NaN</td>\n",
              "      <td>NaN</td>\n",
              "      <td>NaN</td>\n",
              "    </tr>\n",
              "  </tbody>\n",
              "</table>\n",
              "</div>\n",
              "      <button class=\"colab-df-convert\" onclick=\"convertToInteractive('df-17d88c54-2d09-4b6d-9cdc-6b36e4cdbf44')\"\n",
              "              title=\"Convert this dataframe to an interactive table.\"\n",
              "              style=\"display:none;\">\n",
              "        \n",
              "  <svg xmlns=\"http://www.w3.org/2000/svg\" height=\"24px\"viewBox=\"0 0 24 24\"\n",
              "       width=\"24px\">\n",
              "    <path d=\"M0 0h24v24H0V0z\" fill=\"none\"/>\n",
              "    <path d=\"M18.56 5.44l.94 2.06.94-2.06 2.06-.94-2.06-.94-.94-2.06-.94 2.06-2.06.94zm-11 1L8.5 8.5l.94-2.06 2.06-.94-2.06-.94L8.5 2.5l-.94 2.06-2.06.94zm10 10l.94 2.06.94-2.06 2.06-.94-2.06-.94-.94-2.06-.94 2.06-2.06.94z\"/><path d=\"M17.41 7.96l-1.37-1.37c-.4-.4-.92-.59-1.43-.59-.52 0-1.04.2-1.43.59L10.3 9.45l-7.72 7.72c-.78.78-.78 2.05 0 2.83L4 21.41c.39.39.9.59 1.41.59.51 0 1.02-.2 1.41-.59l7.78-7.78 2.81-2.81c.8-.78.8-2.07 0-2.86zM5.41 20L4 18.59l7.72-7.72 1.47 1.35L5.41 20z\"/>\n",
              "  </svg>\n",
              "      </button>\n",
              "      \n",
              "  <style>\n",
              "    .colab-df-container {\n",
              "      display:flex;\n",
              "      flex-wrap:wrap;\n",
              "      gap: 12px;\n",
              "    }\n",
              "\n",
              "    .colab-df-convert {\n",
              "      background-color: #E8F0FE;\n",
              "      border: none;\n",
              "      border-radius: 50%;\n",
              "      cursor: pointer;\n",
              "      display: none;\n",
              "      fill: #1967D2;\n",
              "      height: 32px;\n",
              "      padding: 0 0 0 0;\n",
              "      width: 32px;\n",
              "    }\n",
              "\n",
              "    .colab-df-convert:hover {\n",
              "      background-color: #E2EBFA;\n",
              "      box-shadow: 0px 1px 2px rgba(60, 64, 67, 0.3), 0px 1px 3px 1px rgba(60, 64, 67, 0.15);\n",
              "      fill: #174EA6;\n",
              "    }\n",
              "\n",
              "    [theme=dark] .colab-df-convert {\n",
              "      background-color: #3B4455;\n",
              "      fill: #D2E3FC;\n",
              "    }\n",
              "\n",
              "    [theme=dark] .colab-df-convert:hover {\n",
              "      background-color: #434B5C;\n",
              "      box-shadow: 0px 1px 3px 1px rgba(0, 0, 0, 0.15);\n",
              "      filter: drop-shadow(0px 1px 2px rgba(0, 0, 0, 0.3));\n",
              "      fill: #FFFFFF;\n",
              "    }\n",
              "  </style>\n",
              "\n",
              "      <script>\n",
              "        const buttonEl =\n",
              "          document.querySelector('#df-17d88c54-2d09-4b6d-9cdc-6b36e4cdbf44 button.colab-df-convert');\n",
              "        buttonEl.style.display =\n",
              "          google.colab.kernel.accessAllowed ? 'block' : 'none';\n",
              "\n",
              "        async function convertToInteractive(key) {\n",
              "          const element = document.querySelector('#df-17d88c54-2d09-4b6d-9cdc-6b36e4cdbf44');\n",
              "          const dataTable =\n",
              "            await google.colab.kernel.invokeFunction('convertToInteractive',\n",
              "                                                     [key], {});\n",
              "          if (!dataTable) return;\n",
              "\n",
              "          const docLinkHtml = 'Like what you see? Visit the ' +\n",
              "            '<a target=\"_blank\" href=https://colab.research.google.com/notebooks/data_table.ipynb>data table notebook</a>'\n",
              "            + ' to learn more about interactive tables.';\n",
              "          element.innerHTML = '';\n",
              "          dataTable['output_type'] = 'display_data';\n",
              "          await google.colab.output.renderOutput(dataTable, element);\n",
              "          const docLink = document.createElement('div');\n",
              "          docLink.innerHTML = docLinkHtml;\n",
              "          element.appendChild(docLink);\n",
              "        }\n",
              "      </script>\n",
              "    </div>\n",
              "  </div>\n",
              "  "
            ]
          },
          "metadata": {},
          "execution_count": 4
        }
      ]
    },
    {
      "cell_type": "code",
      "source": [
        "# Makine Öğrenimi için olası değişkenleri belirttik bunlar cinsiyet essayler,vücut tipleri,alkol,uyuşturucu kullanım,eğitim,etnik köken, gelir\n",
        "n_men = len(df[df.sex == 'm'])\n",
        "n_women = len(df[df.sex == 'f'])\n",
        "n_essays = (df.loc[:,'essay0':'essay9']).size\n",
        "n_body = df.body_type.unique().size\n",
        "n_drink = df.drinks.unique().size\n",
        "n_drug = df.drugs.unique().size\n",
        "n_education = df.education.unique().size\n",
        "n_ethnicity = df.ethnicity.unique().size\n",
        "n_income = df.income.unique().size\n",
        "n_orientation = df.orientation.unique().size\n",
        "\n",
        "print(\"Number of male users: {:d}\".format(n_men))\n",
        "print(\"Number of essays: {:d}\".format(n_essays))\n",
        "print(\"Number of female users: {:d}\".format(n_women))\n",
        "print(\"Number of body types: {:d}\".format(n_body))\n",
        "print(\"Number of drinking types: {:d}\".format(n_drink))\n",
        "print(\"Number of drug types: {:d}\".format(n_drug))\n",
        "print(\"Number of ethnicity combinations: {:d}\".format(n_ethnicity))\n",
        "print(\"Number of income levels: {:d}\".format(n_income))\n",
        "print(\"Number of orientation types: {:d}\".format(n_orientation))"
      ],
      "metadata": {
        "colab": {
          "base_uri": "https://localhost:8080/"
        },
        "id": "5CLcafu_J81A",
        "outputId": "ef0ada49-5a65-4ab9-d684-2adf554e18d1"
      },
      "execution_count": null,
      "outputs": [
        {
          "output_type": "stream",
          "name": "stdout",
          "text": [
            "Number of male users: 35829\n",
            "Number of essays: 599460\n",
            "Number of female users: 24117\n",
            "Number of body types: 13\n",
            "Number of drinking types: 7\n",
            "Number of drug types: 4\n",
            "Number of ethnicity combinations: 218\n",
            "Number of income levels: 14\n",
            "Number of orientation types: 3\n"
          ]
        }
      ]
    },
    {
      "cell_type": "code",
      "source": [
        "# Her kullanıcı için 10 essayin tümünü tek bir sütunda birleştirdik\n",
        "# Ayrıca eksik essayleri boş değerlerle değiştirdik \n",
        "df['all_essays'] = ''\n",
        "essay_names = df.loc[:,'essay0':'essay9']\n",
        "for essay_name in essay_names:\n",
        "    df[essay_name] = df[essay_name].replace(np.nan, ' ')\n",
        "    df['all_essays'] = df[essay_name] + ' ' + df['all_essays']"
      ],
      "metadata": {
        "id": "SiRtRn_OKLd5"
      },
      "execution_count": null,
      "outputs": []
    },
    {
      "cell_type": "code",
      "source": [
        "# Essaylerden cinsiyet tahminine yönelik veri çerçevesi\n",
        "# Diğer değişkenleri dahil etmek için yeniden üretilebilir\n",
        "essay_sex = df[['all_essays', 'sex']]\n",
        "essay_sex.head(15)"
      ],
      "metadata": {
        "colab": {
          "base_uri": "https://localhost:8080/",
          "height": 520
        },
        "id": "InCPpfy_KNdU",
        "outputId": "aa800f6c-9649-4b20-9713-9102834c7afa"
      },
      "execution_count": null,
      "outputs": [
        {
          "output_type": "execute_result",
          "data": {
            "text/plain": [
              "                                           all_essays sex\n",
              "0   you want to be swept off your feet! you are ti...   m\n",
              "1     i am very open and will share just about any...   m\n",
              "2   you are bright, open, intense, silly, ironic, ...   m\n",
              "3   you feel so inclined.     cats and german phil...   m\n",
              "4             music: bands, rappers, musicians at ...   m\n",
              "5   you're awesome. i cried on my first day at sch...   m\n",
              "6     my typical friday night plotting to take ove...   f\n",
              "7       out and about or relaxing at home with a g...   f\n",
              "8   http://www.youtube.com/watch?v=4dxbwzuwsxk let...   f\n",
              "9   you can rock the bells and say hi. send a mess...   m\n",
              "10  you are a complex woman with healthy self-este...   m\n",
              "11  if you know who you are, who you want, where y...   m\n",
              "12                                 bang my shit bang    m\n",
              "13                                                      f\n",
              "14  ...you genuinely think we'd be a good match. h...   f"
            ],
            "text/html": [
              "\n",
              "  <div id=\"df-77bc4248-1647-4851-8bda-833df47373d4\">\n",
              "    <div class=\"colab-df-container\">\n",
              "      <div>\n",
              "<style scoped>\n",
              "    .dataframe tbody tr th:only-of-type {\n",
              "        vertical-align: middle;\n",
              "    }\n",
              "\n",
              "    .dataframe tbody tr th {\n",
              "        vertical-align: top;\n",
              "    }\n",
              "\n",
              "    .dataframe thead th {\n",
              "        text-align: right;\n",
              "    }\n",
              "</style>\n",
              "<table border=\"1\" class=\"dataframe\">\n",
              "  <thead>\n",
              "    <tr style=\"text-align: right;\">\n",
              "      <th></th>\n",
              "      <th>all_essays</th>\n",
              "      <th>sex</th>\n",
              "    </tr>\n",
              "  </thead>\n",
              "  <tbody>\n",
              "    <tr>\n",
              "      <th>0</th>\n",
              "      <td>you want to be swept off your feet! you are ti...</td>\n",
              "      <td>m</td>\n",
              "    </tr>\n",
              "    <tr>\n",
              "      <th>1</th>\n",
              "      <td>i am very open and will share just about any...</td>\n",
              "      <td>m</td>\n",
              "    </tr>\n",
              "    <tr>\n",
              "      <th>2</th>\n",
              "      <td>you are bright, open, intense, silly, ironic, ...</td>\n",
              "      <td>m</td>\n",
              "    </tr>\n",
              "    <tr>\n",
              "      <th>3</th>\n",
              "      <td>you feel so inclined.     cats and german phil...</td>\n",
              "      <td>m</td>\n",
              "    </tr>\n",
              "    <tr>\n",
              "      <th>4</th>\n",
              "      <td>music: bands, rappers, musicians at ...</td>\n",
              "      <td>m</td>\n",
              "    </tr>\n",
              "    <tr>\n",
              "      <th>5</th>\n",
              "      <td>you're awesome. i cried on my first day at sch...</td>\n",
              "      <td>m</td>\n",
              "    </tr>\n",
              "    <tr>\n",
              "      <th>6</th>\n",
              "      <td>my typical friday night plotting to take ove...</td>\n",
              "      <td>f</td>\n",
              "    </tr>\n",
              "    <tr>\n",
              "      <th>7</th>\n",
              "      <td>out and about or relaxing at home with a g...</td>\n",
              "      <td>f</td>\n",
              "    </tr>\n",
              "    <tr>\n",
              "      <th>8</th>\n",
              "      <td>http://www.youtube.com/watch?v=4dxbwzuwsxk let...</td>\n",
              "      <td>f</td>\n",
              "    </tr>\n",
              "    <tr>\n",
              "      <th>9</th>\n",
              "      <td>you can rock the bells and say hi. send a mess...</td>\n",
              "      <td>m</td>\n",
              "    </tr>\n",
              "    <tr>\n",
              "      <th>10</th>\n",
              "      <td>you are a complex woman with healthy self-este...</td>\n",
              "      <td>m</td>\n",
              "    </tr>\n",
              "    <tr>\n",
              "      <th>11</th>\n",
              "      <td>if you know who you are, who you want, where y...</td>\n",
              "      <td>m</td>\n",
              "    </tr>\n",
              "    <tr>\n",
              "      <th>12</th>\n",
              "      <td>bang my shit bang</td>\n",
              "      <td>m</td>\n",
              "    </tr>\n",
              "    <tr>\n",
              "      <th>13</th>\n",
              "      <td></td>\n",
              "      <td>f</td>\n",
              "    </tr>\n",
              "    <tr>\n",
              "      <th>14</th>\n",
              "      <td>...you genuinely think we'd be a good match. h...</td>\n",
              "      <td>f</td>\n",
              "    </tr>\n",
              "  </tbody>\n",
              "</table>\n",
              "</div>\n",
              "      <button class=\"colab-df-convert\" onclick=\"convertToInteractive('df-77bc4248-1647-4851-8bda-833df47373d4')\"\n",
              "              title=\"Convert this dataframe to an interactive table.\"\n",
              "              style=\"display:none;\">\n",
              "        \n",
              "  <svg xmlns=\"http://www.w3.org/2000/svg\" height=\"24px\"viewBox=\"0 0 24 24\"\n",
              "       width=\"24px\">\n",
              "    <path d=\"M0 0h24v24H0V0z\" fill=\"none\"/>\n",
              "    <path d=\"M18.56 5.44l.94 2.06.94-2.06 2.06-.94-2.06-.94-.94-2.06-.94 2.06-2.06.94zm-11 1L8.5 8.5l.94-2.06 2.06-.94-2.06-.94L8.5 2.5l-.94 2.06-2.06.94zm10 10l.94 2.06.94-2.06 2.06-.94-2.06-.94-.94-2.06-.94 2.06-2.06.94z\"/><path d=\"M17.41 7.96l-1.37-1.37c-.4-.4-.92-.59-1.43-.59-.52 0-1.04.2-1.43.59L10.3 9.45l-7.72 7.72c-.78.78-.78 2.05 0 2.83L4 21.41c.39.39.9.59 1.41.59.51 0 1.02-.2 1.41-.59l7.78-7.78 2.81-2.81c.8-.78.8-2.07 0-2.86zM5.41 20L4 18.59l7.72-7.72 1.47 1.35L5.41 20z\"/>\n",
              "  </svg>\n",
              "      </button>\n",
              "      \n",
              "  <style>\n",
              "    .colab-df-container {\n",
              "      display:flex;\n",
              "      flex-wrap:wrap;\n",
              "      gap: 12px;\n",
              "    }\n",
              "\n",
              "    .colab-df-convert {\n",
              "      background-color: #E8F0FE;\n",
              "      border: none;\n",
              "      border-radius: 50%;\n",
              "      cursor: pointer;\n",
              "      display: none;\n",
              "      fill: #1967D2;\n",
              "      height: 32px;\n",
              "      padding: 0 0 0 0;\n",
              "      width: 32px;\n",
              "    }\n",
              "\n",
              "    .colab-df-convert:hover {\n",
              "      background-color: #E2EBFA;\n",
              "      box-shadow: 0px 1px 2px rgba(60, 64, 67, 0.3), 0px 1px 3px 1px rgba(60, 64, 67, 0.15);\n",
              "      fill: #174EA6;\n",
              "    }\n",
              "\n",
              "    [theme=dark] .colab-df-convert {\n",
              "      background-color: #3B4455;\n",
              "      fill: #D2E3FC;\n",
              "    }\n",
              "\n",
              "    [theme=dark] .colab-df-convert:hover {\n",
              "      background-color: #434B5C;\n",
              "      box-shadow: 0px 1px 3px 1px rgba(0, 0, 0, 0.15);\n",
              "      filter: drop-shadow(0px 1px 2px rgba(0, 0, 0, 0.3));\n",
              "      fill: #FFFFFF;\n",
              "    }\n",
              "  </style>\n",
              "\n",
              "      <script>\n",
              "        const buttonEl =\n",
              "          document.querySelector('#df-77bc4248-1647-4851-8bda-833df47373d4 button.colab-df-convert');\n",
              "        buttonEl.style.display =\n",
              "          google.colab.kernel.accessAllowed ? 'block' : 'none';\n",
              "\n",
              "        async function convertToInteractive(key) {\n",
              "          const element = document.querySelector('#df-77bc4248-1647-4851-8bda-833df47373d4');\n",
              "          const dataTable =\n",
              "            await google.colab.kernel.invokeFunction('convertToInteractive',\n",
              "                                                     [key], {});\n",
              "          if (!dataTable) return;\n",
              "\n",
              "          const docLinkHtml = 'Like what you see? Visit the ' +\n",
              "            '<a target=\"_blank\" href=https://colab.research.google.com/notebooks/data_table.ipynb>data table notebook</a>'\n",
              "            + ' to learn more about interactive tables.';\n",
              "          element.innerHTML = '';\n",
              "          dataTable['output_type'] = 'display_data';\n",
              "          await google.colab.output.renderOutput(dataTable, element);\n",
              "          const docLink = document.createElement('div');\n",
              "          docLink.innerHTML = docLinkHtml;\n",
              "          element.appendChild(docLink);\n",
              "        }\n",
              "      </script>\n",
              "    </div>\n",
              "  </div>\n",
              "  "
            ]
          },
          "metadata": {},
          "execution_count": 11
        }
      ]
    },
    {
      "cell_type": "code",
      "source": [
        "# Essayleri bir vektör uzay modeline dönüştürdük (Cinsiyete göre dönüştürdük ve erkeklere göre integer olarak dönüştürdük)\n",
        "from sklearn.feature_extraction.text import CountVectorizer\n",
        "\n",
        "def make_xy(essay_sex, vectorizer=None):   \n",
        "    if vectorizer is None:\n",
        "        vectorizer = CountVectorizer()\n",
        "    X = vectorizer.fit_transform(essay_sex.all_essays)\n",
        "    X = X.tocsc() \n",
        "    y = (essay_sex.sex == 'm').values.astype(np.int)\n",
        "    return X, y\n",
        "X, y = make_xy(essay_sex)"
      ],
      "metadata": {
        "colab": {
          "base_uri": "https://localhost:8080/"
        },
        "id": "OyBJITgFKNbY",
        "outputId": "64442121-3e59-495c-a0ff-a5ecf7e908fc"
      },
      "execution_count": null,
      "outputs": [
        {
          "output_type": "stream",
          "name": "stderr",
          "text": [
            "/usr/local/lib/python3.7/dist-packages/ipykernel_launcher.py:10: DeprecationWarning: `np.int` is a deprecated alias for the builtin `int`. To silence this warning, use `int` by itself. Doing this will not modify any behavior and is safe. When replacing `np.int`, you may wish to use e.g. `np.int64` or `np.int32` to specify the precision. If you wish to review your current use, check the release note link for additional information.\n",
            "Deprecated in NumPy 1.20; for more details and guidance: https://numpy.org/devdocs/release/1.20.0-notes.html#deprecations\n",
            "  # Remove the CWD from sys.path while we load stuff.\n"
          ]
        }
      ]
    },
    {
      "cell_type": "code",
      "source": [
        "#Modelimizi Multinomial Naive Bayes eğittik eğiteceğimiz x ve y olarak ayırdık ve split ettik\n",
        "from sklearn.naive_bayes import MultinomialNB\n",
        "from sklearn.model_selection import train_test_split\n",
        "xtrain, xtest, ytrain, ytest = train_test_split(X, y)\n",
        "clf = MultinomialNB().fit(xtrain, ytrain)\n",
        "print(\"MN Accuracy: %0.2f%%\" % (100 * clf.score(xtest, ytest)))"
      ],
      "metadata": {
        "colab": {
          "base_uri": "https://localhost:8080/"
        },
        "id": "owfk46ilLiWb",
        "outputId": "9c7ce71b-1263-45eb-c413-50134fe9b3ef"
      },
      "execution_count": null,
      "outputs": [
        {
          "output_type": "stream",
          "name": "stdout",
          "text": [
            "MN Accuracy: 76.61%\n"
          ]
        }
      ]
    },
    {
      "cell_type": "code",
      "source": [
        "# Eğitilenin doğruluk ve test skoru\n",
        "training_accuracy = clf.score(xtrain, ytrain)\n",
        "test_accuracy = clf.score(xtest, ytest)\n",
        "\n",
        "print(\"Accuracy on training data: %0.2f\" % (training_accuracy))\n",
        "print(\"Accuracy on test data:     %0.2f\" % (test_accuracy))"
      ],
      "metadata": {
        "colab": {
          "base_uri": "https://localhost:8080/"
        },
        "id": "FSuuZgyvLnJA",
        "outputId": "ff3b88a9-a519-4b69-9f3f-56fc8d3dc6c2"
      },
      "execution_count": null,
      "outputs": [
        {
          "output_type": "stream",
          "name": "stdout",
          "text": [
            "Accuracy on training data: 0.84\n",
            "Accuracy on test data:     0.77\n"
          ]
        }
      ]
    },
    {
      "cell_type": "code",
      "source": [
        "#Confusion matrixi çizdirdik\n",
        "from sklearn.metrics import confusion_matrix\n",
        "print(confusion_matrix(ytest, clf.predict(xtest)))"
      ],
      "metadata": {
        "colab": {
          "base_uri": "https://localhost:8080/"
        },
        "id": "mzF4nk0yL7SJ",
        "outputId": "3858380f-9581-415c-8a46-31709d558566"
      },
      "execution_count": null,
      "outputs": [
        {
          "output_type": "stream",
          "name": "stdout",
          "text": [
            "[[4518 1430]\n",
            " [2075 6964]]\n"
          ]
        }
      ]
    },
    {
      "cell_type": "code",
      "source": [
        "#K-Folds Cross Validation’da verilerimizi k farklı alt kümeye böleriz. Verilerimizi eğitmek ve son alt kümeyi test verisi olarak bırakmak için k-1 adet alt kümeyi kullanırız. \n",
        "# k adet deney sonucunda ortaya çıkan ortalama hata değeri modelimizin geçerliliğini belirtir.\n",
        "from sklearn.model_selection import KFold\n",
        "def cv_score(clf, X, y, scorefunc):\n",
        "    result = 0.\n",
        "    nfold = 5\n",
        "    for train, test in KFold(nfold).split(X): # verileri 5 kez train/test gruplarına ayırın\n",
        "        clf.fit(X[train], y[train]) \n",
        "        result += scorefunc(clf, X[test], y[test]) \n",
        "    return result / nfold #ortalamasını aldık"
      ],
      "metadata": {
        "id": "WUAASlvEL_Ix"
      },
      "execution_count": null,
      "outputs": []
    },
    {
      "cell_type": "code",
      "source": [
        "#logaritmasını aldık erkek ve kadınlar için olasılığını hesaplarız\n",
        "def log_likelihood(clf, x, y):\n",
        "    prob = clf.predict_log_proba(x)\n",
        "    female = y == 0\n",
        "    male = ~female\n",
        "    return prob[female, 0].sum() + prob[male, 1].sum()"
      ],
      "metadata": {
        "id": "QZ-z7elYMhum"
      },
      "execution_count": null,
      "outputs": []
    },
    {
      "cell_type": "code",
      "source": [
        "from sklearn.model_selection import train_test_split\n",
        "_, itest = train_test_split(range(essay_sex.shape[0]), train_size=0.7)\n",
        "mask = np.zeros(essay_sex.shape[0], dtype=np.bool)\n",
        "mask[itest] = True"
      ],
      "metadata": {
        "colab": {
          "base_uri": "https://localhost:8080/"
        },
        "id": "7Z15wZmwObId",
        "outputId": "95726486-5a1b-4aa2-f227-0a21752ab372"
      },
      "execution_count": null,
      "outputs": [
        {
          "output_type": "stream",
          "name": "stderr",
          "text": [
            "/usr/local/lib/python3.7/dist-packages/ipykernel_launcher.py:3: DeprecationWarning: `np.bool` is a deprecated alias for the builtin `bool`. To silence this warning, use `bool` by itself. Doing this will not modify any behavior and is safe. If you specifically wanted the numpy scalar type, use `np.bool_` here.\n",
            "Deprecated in NumPy 1.20; for more details and guidance: https://numpy.org/devdocs/release/1.20.0-notes.html#deprecations\n",
            "  This is separate from the ipykernel package so we can avoid doing imports until\n"
          ]
        }
      ]
    },
    {
      "cell_type": "code",
      "source": [
        "#üzerinde arama yapılacak parametreler\n",
        "alphas = [.1, 1, 5, 10, 50] #alpha değerlerimiz \n",
        "min_dfs = [1e-5, 1e-4, 1e-3, 1e-2] #minimum dfs değerleri\n",
        "\n",
        "#alpha ve min_df için en iyi değeri ve en iyi sınıflandırıcıyı bulmak için\n",
        "best_alpha = None\n",
        "best_min_df = None\n",
        "maxscore=-np.inf\n",
        "for alpha in alphas:\n",
        "    for min_df in min_dfs:         \n",
        "        vectorizer = CountVectorizer(min_df = min_df)       \n",
        "        Xthis, ythis = make_xy(essay_sex, vectorizer)\n",
        "        Xtrainthis=Xthis[mask]\n",
        "        ytrainthis=ythis[mask]\n",
        "        clf = MultinomialNB(alpha=alpha)\n",
        "        cvscore = cv_score(clf, Xtrainthis, ytrainthis, log_likelihood)\n",
        "\n",
        "        if cvscore > maxscore:\n",
        "            maxscore = cvscore\n",
        "            best_alpha, best_min_df = alpha, min_df"
      ],
      "metadata": {
        "colab": {
          "base_uri": "https://localhost:8080/"
        },
        "id": "qFjCd6orOjRv",
        "outputId": "1bab61f2-6928-4d5d-875c-d09a0ec8b075"
      },
      "execution_count": null,
      "outputs": [
        {
          "output_type": "stream",
          "name": "stderr",
          "text": [
            "/usr/local/lib/python3.7/dist-packages/ipykernel_launcher.py:10: DeprecationWarning: `np.int` is a deprecated alias for the builtin `int`. To silence this warning, use `int` by itself. Doing this will not modify any behavior and is safe. When replacing `np.int`, you may wish to use e.g. `np.int64` or `np.int32` to specify the precision. If you wish to review your current use, check the release note link for additional information.\n",
            "Deprecated in NumPy 1.20; for more details and guidance: https://numpy.org/devdocs/release/1.20.0-notes.html#deprecations\n",
            "  # Remove the CWD from sys.path while we load stuff.\n",
            "/usr/local/lib/python3.7/dist-packages/ipykernel_launcher.py:10: DeprecationWarning: `np.int` is a deprecated alias for the builtin `int`. To silence this warning, use `int` by itself. Doing this will not modify any behavior and is safe. When replacing `np.int`, you may wish to use e.g. `np.int64` or `np.int32` to specify the precision. If you wish to review your current use, check the release note link for additional information.\n",
            "Deprecated in NumPy 1.20; for more details and guidance: https://numpy.org/devdocs/release/1.20.0-notes.html#deprecations\n",
            "  # Remove the CWD from sys.path while we load stuff.\n",
            "/usr/local/lib/python3.7/dist-packages/ipykernel_launcher.py:10: DeprecationWarning: `np.int` is a deprecated alias for the builtin `int`. To silence this warning, use `int` by itself. Doing this will not modify any behavior and is safe. When replacing `np.int`, you may wish to use e.g. `np.int64` or `np.int32` to specify the precision. If you wish to review your current use, check the release note link for additional information.\n",
            "Deprecated in NumPy 1.20; for more details and guidance: https://numpy.org/devdocs/release/1.20.0-notes.html#deprecations\n",
            "  # Remove the CWD from sys.path while we load stuff.\n",
            "/usr/local/lib/python3.7/dist-packages/ipykernel_launcher.py:10: DeprecationWarning: `np.int` is a deprecated alias for the builtin `int`. To silence this warning, use `int` by itself. Doing this will not modify any behavior and is safe. When replacing `np.int`, you may wish to use e.g. `np.int64` or `np.int32` to specify the precision. If you wish to review your current use, check the release note link for additional information.\n",
            "Deprecated in NumPy 1.20; for more details and guidance: https://numpy.org/devdocs/release/1.20.0-notes.html#deprecations\n",
            "  # Remove the CWD from sys.path while we load stuff.\n",
            "/usr/local/lib/python3.7/dist-packages/ipykernel_launcher.py:10: DeprecationWarning: `np.int` is a deprecated alias for the builtin `int`. To silence this warning, use `int` by itself. Doing this will not modify any behavior and is safe. When replacing `np.int`, you may wish to use e.g. `np.int64` or `np.int32` to specify the precision. If you wish to review your current use, check the release note link for additional information.\n",
            "Deprecated in NumPy 1.20; for more details and guidance: https://numpy.org/devdocs/release/1.20.0-notes.html#deprecations\n",
            "  # Remove the CWD from sys.path while we load stuff.\n",
            "/usr/local/lib/python3.7/dist-packages/ipykernel_launcher.py:10: DeprecationWarning: `np.int` is a deprecated alias for the builtin `int`. To silence this warning, use `int` by itself. Doing this will not modify any behavior and is safe. When replacing `np.int`, you may wish to use e.g. `np.int64` or `np.int32` to specify the precision. If you wish to review your current use, check the release note link for additional information.\n",
            "Deprecated in NumPy 1.20; for more details and guidance: https://numpy.org/devdocs/release/1.20.0-notes.html#deprecations\n",
            "  # Remove the CWD from sys.path while we load stuff.\n",
            "/usr/local/lib/python3.7/dist-packages/ipykernel_launcher.py:10: DeprecationWarning: `np.int` is a deprecated alias for the builtin `int`. To silence this warning, use `int` by itself. Doing this will not modify any behavior and is safe. When replacing `np.int`, you may wish to use e.g. `np.int64` or `np.int32` to specify the precision. If you wish to review your current use, check the release note link for additional information.\n",
            "Deprecated in NumPy 1.20; for more details and guidance: https://numpy.org/devdocs/release/1.20.0-notes.html#deprecations\n",
            "  # Remove the CWD from sys.path while we load stuff.\n",
            "/usr/local/lib/python3.7/dist-packages/ipykernel_launcher.py:10: DeprecationWarning: `np.int` is a deprecated alias for the builtin `int`. To silence this warning, use `int` by itself. Doing this will not modify any behavior and is safe. When replacing `np.int`, you may wish to use e.g. `np.int64` or `np.int32` to specify the precision. If you wish to review your current use, check the release note link for additional information.\n",
            "Deprecated in NumPy 1.20; for more details and guidance: https://numpy.org/devdocs/release/1.20.0-notes.html#deprecations\n",
            "  # Remove the CWD from sys.path while we load stuff.\n",
            "/usr/local/lib/python3.7/dist-packages/ipykernel_launcher.py:10: DeprecationWarning: `np.int` is a deprecated alias for the builtin `int`. To silence this warning, use `int` by itself. Doing this will not modify any behavior and is safe. When replacing `np.int`, you may wish to use e.g. `np.int64` or `np.int32` to specify the precision. If you wish to review your current use, check the release note link for additional information.\n",
            "Deprecated in NumPy 1.20; for more details and guidance: https://numpy.org/devdocs/release/1.20.0-notes.html#deprecations\n",
            "  # Remove the CWD from sys.path while we load stuff.\n",
            "/usr/local/lib/python3.7/dist-packages/ipykernel_launcher.py:10: DeprecationWarning: `np.int` is a deprecated alias for the builtin `int`. To silence this warning, use `int` by itself. Doing this will not modify any behavior and is safe. When replacing `np.int`, you may wish to use e.g. `np.int64` or `np.int32` to specify the precision. If you wish to review your current use, check the release note link for additional information.\n",
            "Deprecated in NumPy 1.20; for more details and guidance: https://numpy.org/devdocs/release/1.20.0-notes.html#deprecations\n",
            "  # Remove the CWD from sys.path while we load stuff.\n",
            "/usr/local/lib/python3.7/dist-packages/ipykernel_launcher.py:10: DeprecationWarning: `np.int` is a deprecated alias for the builtin `int`. To silence this warning, use `int` by itself. Doing this will not modify any behavior and is safe. When replacing `np.int`, you may wish to use e.g. `np.int64` or `np.int32` to specify the precision. If you wish to review your current use, check the release note link for additional information.\n",
            "Deprecated in NumPy 1.20; for more details and guidance: https://numpy.org/devdocs/release/1.20.0-notes.html#deprecations\n",
            "  # Remove the CWD from sys.path while we load stuff.\n",
            "/usr/local/lib/python3.7/dist-packages/ipykernel_launcher.py:10: DeprecationWarning: `np.int` is a deprecated alias for the builtin `int`. To silence this warning, use `int` by itself. Doing this will not modify any behavior and is safe. When replacing `np.int`, you may wish to use e.g. `np.int64` or `np.int32` to specify the precision. If you wish to review your current use, check the release note link for additional information.\n",
            "Deprecated in NumPy 1.20; for more details and guidance: https://numpy.org/devdocs/release/1.20.0-notes.html#deprecations\n",
            "  # Remove the CWD from sys.path while we load stuff.\n",
            "/usr/local/lib/python3.7/dist-packages/ipykernel_launcher.py:10: DeprecationWarning: `np.int` is a deprecated alias for the builtin `int`. To silence this warning, use `int` by itself. Doing this will not modify any behavior and is safe. When replacing `np.int`, you may wish to use e.g. `np.int64` or `np.int32` to specify the precision. If you wish to review your current use, check the release note link for additional information.\n",
            "Deprecated in NumPy 1.20; for more details and guidance: https://numpy.org/devdocs/release/1.20.0-notes.html#deprecations\n",
            "  # Remove the CWD from sys.path while we load stuff.\n",
            "/usr/local/lib/python3.7/dist-packages/ipykernel_launcher.py:10: DeprecationWarning: `np.int` is a deprecated alias for the builtin `int`. To silence this warning, use `int` by itself. Doing this will not modify any behavior and is safe. When replacing `np.int`, you may wish to use e.g. `np.int64` or `np.int32` to specify the precision. If you wish to review your current use, check the release note link for additional information.\n",
            "Deprecated in NumPy 1.20; for more details and guidance: https://numpy.org/devdocs/release/1.20.0-notes.html#deprecations\n",
            "  # Remove the CWD from sys.path while we load stuff.\n",
            "/usr/local/lib/python3.7/dist-packages/ipykernel_launcher.py:10: DeprecationWarning: `np.int` is a deprecated alias for the builtin `int`. To silence this warning, use `int` by itself. Doing this will not modify any behavior and is safe. When replacing `np.int`, you may wish to use e.g. `np.int64` or `np.int32` to specify the precision. If you wish to review your current use, check the release note link for additional information.\n",
            "Deprecated in NumPy 1.20; for more details and guidance: https://numpy.org/devdocs/release/1.20.0-notes.html#deprecations\n",
            "  # Remove the CWD from sys.path while we load stuff.\n",
            "/usr/local/lib/python3.7/dist-packages/ipykernel_launcher.py:10: DeprecationWarning: `np.int` is a deprecated alias for the builtin `int`. To silence this warning, use `int` by itself. Doing this will not modify any behavior and is safe. When replacing `np.int`, you may wish to use e.g. `np.int64` or `np.int32` to specify the precision. If you wish to review your current use, check the release note link for additional information.\n",
            "Deprecated in NumPy 1.20; for more details and guidance: https://numpy.org/devdocs/release/1.20.0-notes.html#deprecations\n",
            "  # Remove the CWD from sys.path while we load stuff.\n",
            "/usr/local/lib/python3.7/dist-packages/ipykernel_launcher.py:10: DeprecationWarning: `np.int` is a deprecated alias for the builtin `int`. To silence this warning, use `int` by itself. Doing this will not modify any behavior and is safe. When replacing `np.int`, you may wish to use e.g. `np.int64` or `np.int32` to specify the precision. If you wish to review your current use, check the release note link for additional information.\n",
            "Deprecated in NumPy 1.20; for more details and guidance: https://numpy.org/devdocs/release/1.20.0-notes.html#deprecations\n",
            "  # Remove the CWD from sys.path while we load stuff.\n",
            "/usr/local/lib/python3.7/dist-packages/ipykernel_launcher.py:10: DeprecationWarning: `np.int` is a deprecated alias for the builtin `int`. To silence this warning, use `int` by itself. Doing this will not modify any behavior and is safe. When replacing `np.int`, you may wish to use e.g. `np.int64` or `np.int32` to specify the precision. If you wish to review your current use, check the release note link for additional information.\n",
            "Deprecated in NumPy 1.20; for more details and guidance: https://numpy.org/devdocs/release/1.20.0-notes.html#deprecations\n",
            "  # Remove the CWD from sys.path while we load stuff.\n",
            "/usr/local/lib/python3.7/dist-packages/ipykernel_launcher.py:10: DeprecationWarning: `np.int` is a deprecated alias for the builtin `int`. To silence this warning, use `int` by itself. Doing this will not modify any behavior and is safe. When replacing `np.int`, you may wish to use e.g. `np.int64` or `np.int32` to specify the precision. If you wish to review your current use, check the release note link for additional information.\n",
            "Deprecated in NumPy 1.20; for more details and guidance: https://numpy.org/devdocs/release/1.20.0-notes.html#deprecations\n",
            "  # Remove the CWD from sys.path while we load stuff.\n",
            "/usr/local/lib/python3.7/dist-packages/ipykernel_launcher.py:10: DeprecationWarning: `np.int` is a deprecated alias for the builtin `int`. To silence this warning, use `int` by itself. Doing this will not modify any behavior and is safe. When replacing `np.int`, you may wish to use e.g. `np.int64` or `np.int32` to specify the precision. If you wish to review your current use, check the release note link for additional information.\n",
            "Deprecated in NumPy 1.20; for more details and guidance: https://numpy.org/devdocs/release/1.20.0-notes.html#deprecations\n",
            "  # Remove the CWD from sys.path while we load stuff.\n"
          ]
        }
      ]
    },
    {
      "cell_type": "code",
      "source": [
        "print('alpha: {:.2f}'.format(best_alpha))\n",
        "print('min_df: {}'.format(best_min_df))"
      ],
      "metadata": {
        "colab": {
          "base_uri": "https://localhost:8080/"
        },
        "id": "K465aEToOpF3",
        "outputId": "d6659cbf-2bf3-40f3-b697-2fb3c64f76db"
      },
      "execution_count": null,
      "outputs": [
        {
          "output_type": "stream",
          "name": "stdout",
          "text": [
            "alpha: 50.00\n",
            "min_df: 0.01\n"
          ]
        }
      ]
    },
    {
      "cell_type": "code",
      "source": [
        "vectorizer = CountVectorizer(min_df=best_min_df)\n",
        "X, y = make_xy(essay_sex, vectorizer)\n",
        "xtrain=X[mask]\n",
        "ytrain=y[mask]\n",
        "xtest=X[~mask]\n",
        "ytest=y[~mask]\n",
        "\n",
        "clf = MultinomialNB(alpha=best_alpha).fit(xtrain, ytrain)\n",
        "\n",
        "training_accuracy = clf.score(xtrain, ytrain)\n",
        "test_accuracy = clf.score(xtest, ytest)\n",
        "\n",
        "print(\"Accuracy on training data: %0.2f\" % (training_accuracy))\n",
        "print(\"Accuracy on test data:     %0.2f\" % (test_accuracy))"
      ],
      "metadata": {
        "colab": {
          "base_uri": "https://localhost:8080/"
        },
        "id": "5BylBnDEOvMc",
        "outputId": "e232681e-a31d-4aa7-d72b-b24ce52b533c"
      },
      "execution_count": null,
      "outputs": [
        {
          "output_type": "stream",
          "name": "stderr",
          "text": [
            "/usr/local/lib/python3.7/dist-packages/ipykernel_launcher.py:10: DeprecationWarning: `np.int` is a deprecated alias for the builtin `int`. To silence this warning, use `int` by itself. Doing this will not modify any behavior and is safe. When replacing `np.int`, you may wish to use e.g. `np.int64` or `np.int32` to specify the precision. If you wish to review your current use, check the release note link for additional information.\n",
            "Deprecated in NumPy 1.20; for more details and guidance: https://numpy.org/devdocs/release/1.20.0-notes.html#deprecations\n",
            "  # Remove the CWD from sys.path while we load stuff.\n"
          ]
        },
        {
          "output_type": "stream",
          "name": "stdout",
          "text": [
            "Accuracy on training data: 0.76\n",
            "Accuracy on test data:     0.74\n"
          ]
        }
      ]
    },
    {
      "cell_type": "code",
      "source": [
        "# Cinsiyeti tahmin eden kelimelerin listesini aldık \n",
        "words = np.array(vectorizer.get_feature_names()) #özelliklerin isimlerini vektörize ederiz\n",
        "\n",
        "x = np.eye(xtest.shape[1])\n",
        "probs = clf.predict_log_proba(x)[:, 0]\n",
        "ind = np.argsort(probs)\n",
        "\n",
        "men_words = words[ind[:10]]\n",
        "women_words = words[ind[-10:]]\n",
        "\n",
        "men_prob = probs[ind[:10]]\n",
        "women_prob = probs[ind[-10:]]\n",
        "\n",
        "print(\"Men words\\t           P(Men word | word)\")\n",
        "for w, p in zip(men_words, men_prob):\n",
        "    print(\"{:>20}\".format(w), \"{:.2f}\".format(1 - np.exp(p)))\n",
        "    \n",
        "print(\"Women words\\t        P(Men word | word)\")\n",
        "for w, p in zip(women_words, women_prob):\n",
        "    print(\"{:>20}\".format(w), \"{:.2f}\".format(1 - np.exp(p)))\n",
        "\n",
        "#Kadınlar ve erkeklerin essaylerde bahsettiği ilgili kelimelerin olasılıklarını sıraladık"
      ],
      "metadata": {
        "colab": {
          "base_uri": "https://localhost:8080/"
        },
        "id": "yeKIZ7M7OyJ3",
        "outputId": "c366757f-0c2f-45e4-abc0-485651ad2fa3"
      },
      "execution_count": null,
      "outputs": [
        {
          "output_type": "stream",
          "name": "stdout",
          "text": [
            "Men words\t           P(Men word | word)\n",
            "           computers 0.85\n",
            "            software 0.82\n",
            "                 guy 0.80\n",
            "            engineer 0.80\n",
            "               beard 0.80\n",
            "         engineering 0.80\n",
            "              fixing 0.79\n",
            "             startup 0.77\n",
            "              guitar 0.77\n",
            "         programming 0.77\n",
            "Women words\t        P(Men word | word)\n",
            "               curly 0.38\n",
            "               queer 0.38\n",
            "              baking 0.35\n",
            "            fabulous 0.35\n",
            "               adore 0.34\n",
            "           chapstick 0.34\n",
            "           prejudice 0.33\n",
            "                 gal 0.33\n",
            "             anatomy 0.32\n",
            "               heels 0.27\n"
          ]
        },
        {
          "output_type": "stream",
          "name": "stderr",
          "text": [
            "/usr/local/lib/python3.7/dist-packages/sklearn/utils/deprecation.py:87: FutureWarning: Function get_feature_names is deprecated; get_feature_names is deprecated in 1.0 and will be removed in 1.2. Please use get_feature_names_out instead.\n",
            "  warnings.warn(msg, category=FutureWarning)\n"
          ]
        }
      ]
    },
    {
      "cell_type": "code",
      "source": [
        "x, y = make_xy(essay_sex, vectorizer)\n",
        "\n",
        "prob = clf.predict_proba(x)[:, 0]\n",
        "predict = clf.predict(x)\n",
        "\n",
        "bad_women = np.argsort(prob[y == 0])[:3]\n",
        "bad_men = np.argsort(prob[y == 1])[-3:]"
      ],
      "metadata": {
        "colab": {
          "base_uri": "https://localhost:8080/"
        },
        "id": "yNsXZE5RPSxQ",
        "outputId": "8b5dec1d-81d8-492c-e76f-4b9835f323cd"
      },
      "execution_count": null,
      "outputs": [
        {
          "output_type": "stream",
          "name": "stderr",
          "text": [
            "/usr/local/lib/python3.7/dist-packages/ipykernel_launcher.py:10: DeprecationWarning: `np.int` is a deprecated alias for the builtin `int`. To silence this warning, use `int` by itself. Doing this will not modify any behavior and is safe. When replacing `np.int`, you may wish to use e.g. `np.int64` or `np.int32` to specify the precision. If you wish to review your current use, check the release note link for additional information.\n",
            "Deprecated in NumPy 1.20; for more details and guidance: https://numpy.org/devdocs/release/1.20.0-notes.html#deprecations\n",
            "  # Remove the CWD from sys.path while we load stuff.\n"
          ]
        }
      ]
    },
    {
      "cell_type": "code",
      "source": [
        "print(\"Yanlış Tahmin Edilen Kadınlardan Alıntılar\")\n",
        "print('---------------------------')\n",
        "for row in bad_women:\n",
        "    print(essay_sex[y == 0].all_essays.iloc[row])\n",
        "    print('')"
      ],
      "metadata": {
        "colab": {
          "base_uri": "https://localhost:8080/"
        },
        "id": "UKfHll4IPh4B",
        "outputId": "ba1bd3c4-fdb6-4362-af58-cecccb72171a"
      },
      "execution_count": null,
      "outputs": [
        {
          "output_type": "stream",
          "name": "stdout",
          "text": [
            "Mis-predicted Women quotes\n",
            "---------------------------\n",
            "... you're someone who could get down with just stopping by for a cup of tea and a dance sometimes, not much conversation really, maybe a bowl, maybe not.  ... you'd go out with me on halloween dressed up as an oompa-loompa riding a horsey-on-a-stick... i'll dress as one too.  ... or... or... i could dress up as the oompa-loompa riding the horsey and, oh my god... wai-wait... this is great... you could be the guy with the broom and dustpan that trails us--me and the horsey--and sweeps up our droppings... party droppings, you know, chewed gum, cherry stems, shoe heels, shell casings, torsos with the heads chewed off, like at a parade, yes! we'll be a parade... me and you and a horsey-on-a-stick... a broom and a dustpan and a bodybag perhaps... your tools will be all spangly, and your mustache like a whiskbroom atop your lip... of course you'll party with us, and we'll wait for you to finish cleaning up wherever we stop...  whoa... that was lorgnette... you knew that, right?  ... anyway, you think this whole thing is kinda creepy, you know, the little pictures of people you've trolled popping up with an announcement of what they're doing at that exact moment--going online to chum the waters--and you like the creepiness.  ... you're not entirely comfortable with the words safe or cheap.  you don't have to know why; that you're uncomfortable using them is enough for me.  if you're not entirely sure what your feelings are about them but you have a niggling feeling of some sort, try saying them, or hearing them, in a marge simpson voice... see what i mean?  no? prob'ly shouldn't message me then.  i prefer that you be athletic in a street way, as opposed to a straight-jock, though if you do both, i'm interested, but not if you identify too strongly with team sports, unless you're really hot, but then you must do it at other people's houses, and you musn't expect me to talk about it, or listen to you talk about it, no matter how hot you are.  and by street way i mean: you can run from the fuzz when you need to, climb a tree if you want, ride a bike without fear in the street, stay standing upright on a billboard platform, bite a dog who bites you first... okay, i'm just saying anything right now.  i cannot abide a baseball cap... exceptions for ones with good logos, like john deere farm equipment, or somebody's feed n'seed store, marriot's great america, ummm... there're other exceptions, pharmaceutical promotions are a motherlode... you get the idea, and if you don't?  prob'ly shouldn't message me.  oh yeah, and if you have 4u tagged to the end of your screen name... i don't need to say it do i.  ... unless, of course, your screen name is oompaloompa4u, in which case there's someone around here i think you should meet.  do i sound bitchy? i might be a little bit, but... try to think of me instead as someone with a high capacity for differentiation.  and remember the swing of the pendulum. ummm... my mom had a painting in our dining room for years that she rented from the rochester public library.  i always have five bathroom towels in circulation for myself: a hand towel, a face towel, a foot towel, a body towel, and a hair towel; i've done this since i was in second grade.  i can swallow eight big vitamin tablets at once with a single sip of water-no gag reflex.  i can eat glass, well, i don't swallow anymore because dental work precludes me from chewing it as well as i need to in order to swallow it.  i relish the aftertaste of a small, and contained beer-belch arising from a sophisticated brew with a texture and taste that are well designed.  i can smell the difference between rats and mice whether they're dead or alive.  sometimes garbage smells good to me, as long as it's kinda fresh, and there's no poop or rotting meat in it.  peeing in the bathtub is kind've a turn-on, with or without warm water... it's weird like that.  i often get so lost in my thoughts that when bathing, i forget whether or not i've shampooed, or rinsed the conditioner out of my hair, or even put any in at all, and end up repeating these things several times.  today i was busy daydreaming and forgot what i was eating mid-chew so i spit the food out on a napkin so i could see what it was.  the clinical diagnosis is add but i prefer to think of it as joie de vivre.  oooooh... this should up the ante on private things admitted... i will share with you what may be the most fucked up dream ever dreamed in all of life... ever.  i dreamed that my mom and i were attending a tour of some historic mansion on a parade of homes of famous dead people, or maybe they were just dead people, anyway, we were wandering from room to room, and we were naked, and she was following behind me trying to finger-fuck me... incessantly!  i kept reaching behind myself and swatting at her but honestly, it kind of spoiled the whole tour for me.  and when i woke up, what was really happening? ummm... for that? i think you'll have to read the book when it comes out.  mmmmmm... try to stop me now... you know that part up there under things i spend lots of time thinking about, where you've pinned me against the wall of an old building, and you're doing things to my neck that make me shiver and roll my eyes back and go far, far, far away...? it starts with kissing and biting...  oh yeah, and sometimes i get into stare-downs with babies.  i don't mean to... they start it... and really, i mean, what am i supposed to do, look away? uhhh... that's not happening. let's forget about me for a minute and talk about sponge bob instead... i mean, for christ's sake, he's a sponge that lives in the bottom of a pair of women's underwear... you know... bikini bottom?  and friday night? who cares.  i'd rather talk about some of the things i've learned in my short time on this site.  first off, i've yet to meet anyone, and i've met scads, whose physical person is at all what i expect from the photos.  not to say that they look better, or worse, or even all that different, just that i never feel like i'm meeting someone of whom i have any sense of their physical presence, no matter how hard i've scrutinized their pictures.  and how this lends itself to the exquisite rawness of the first encounter fascinates me the most... the first encounter with its treacherous first moments when our greatest self-doubt is how we'll look to the other... and the egos of us both are exposed nerves, and the stuff that leaks out of us and washes across our faces, the expressions conceived, takes on the character of each-as-the-observer's insecurity.  and all of the e-repartee that flutters back and forth with such energy between two e-paramours before meeting, fertilizes the bed of the budding relationship.  and then you meet someone with whom you feel that elusive and irrational tingling that ferries them into all of your favorite music, and conspires with insanity to construct such conversations between you and them in your head that in their presence you almost feel like they withhold, for the quality of intimacy is so diminished from that to which you've become accustomed... in the conversations you've been having... with them in your head.  this infant relationship is but a seedling, and whether it's of a variety that will grow lush and full, or more like the fleeting poppy, with shallow roots and seasoned short, it requires tender ministrations to survive the transition from the rarefied conditions of the okq nursery to the hard-scrabble of ordinary life.  ...to be continued...by the way, my name is lorgnette, and this profile rightly belongs to the creature whose body i inhabit, an accomplished and gracious hostess to whom all that is hers shall be returned, but sometimes... the moment belongs to me... a secret we now share.  okay, that's enough from her.  i'm the \"creature\" and i'm back.  i think lorgnette's been drinking (from the toilet bowl) again, and she's waxing a little... well, the metaphor speaks for itself.  i'm trying to get her a venue of her very own, maybe some space on the inside of a bubble gum wrapper, or in highlights magazine.  i've pitched an idea to them for a language driven version of \"hidden pictures\"... remember that feature? there are 12 tigers hidden in this picture can you find them? only this would be like: there are 12 meanings hidden in this sentence can you find them?  anyway, she's quite adept at emerging from between things... lines, words... so until i find something for her of her very own, you'll have to keep an eye open for her... she likes to sneak in sometimes and have a piddle... you may have stepped in some up there in the self summary. the dust floating across the lens of my eye, bacterial intelligence (i'm not saying i'm having seminal thoughts about it), whether i prefer a space after the ellipses (decidedly i do), the aesthetic of nested punctuation, different outfits to wear, my dream life, the apartment i'm looking for there, the view of the freeway complex from the street corner where i stood thinking one day... there...  and lately, i spend a lot of time thinking about you.  i'm going through one of those phases where i'm so taken with your impossibly adorable best friend yummy sexiness that i feel i must bite something... i wish it could be you.  i know that if you were here i wouldn't be able to keep my hands off of you and you wouldn't be able to keep yours off of me and we'd kiss and fuck and think and play, and i'd wake you up to tell you my dreams, and then we'd float back to sleep together on the comfort of the thought that we'd finally found each other in the same place at the same time.  i want to talk to your face so close to mine that you can feel my eyelashes on your cheek... and my breath leaves tiny warm droplets on your nose and on your lips.  and then i want to close my eyes and feel your voice rising up from your throat and vibrating your lips against my ear.  i want to wake you up humming a nonsense lullaby with my lips around your cock, and feel you stiffen outside, and soften inside as your thoughts dissolve into mine in the crucible of our subconscious-shared as moments together in the same dream, and i want to wake up from that dream still dreaming of you.  i want you to push me up against the peeling wall of a decrepit building late at night, and under the yellow light of a street lamp, i want you to pin my arms against the rough surface and kiss and suck and bite my neck until you feel a shiver run through my body, and then i want you to keep doing it until my eyes roll back in my head and i go far, far, far away...  i watched some movies today and ate some ice cream, skipped school, should go tomorrow, don't know if i will.  rain outside is soft and warm and the roses in the yard are blown-out floozies feeling all moist and sexy and special.  i haven't described where i live to you yet but after four years it still takes my words away.  the colors and forms with which i've sculpted the space send me into a dreamy fugue state, and sometimes i pass hours dancing among the rooms with my eyes half shut thinking about everything, nothing... singing, breathing, remembering...  in these states i talk to my mom and my brother, and sometimes my dad, but mostly i talk to you... i'd like to talk to claudia more.  claudia's my friend of twenty years and she died about a year and a half ago from liver disease; she'd been hospitalized several times in the last five.  i went to her apartment for tea, she had jack daniels in hers, i knew we were writing the final page, i told her friends, they told her family, and i found her body... peter and raymond (shut up little man)... my perlina bags... the use of my arms and legs (is that wrong of me?)... the original issue plate commemorating the coronation in 1953 of h.m. queen elizabeth ii that may be found amongst the aluminum fish that are swimming in the cracker flower garden on my kitchen counter top... prismatic, my likes and such, but right now, i'm all up in arab strap, the beta band, the dandy warhols, radiohead, black rebel motorcycle club, death in vegas, brian jonestown massacre, molvear, and in this exact moment, i'm loving the octopus project, and radiohead, and blockhead... hmmm, a theme emerges... i fucking love electric guitars... and i've loved many drummers... i love raisins, i love lamb, i love butter and half-and-half, and i love love... mmmmm, some things on this list change and some things don't.  if i could only listen to one band the rest of my born days i'd be torn; some days i'd say radiohead, other times i'd want the fall, but then i remember the summer i spent shackled to my radiator with pj harvey... nope, it's radiohead; oh christ, then there's yo la tengo...  shows? arrested development, the flight of the conchords, the office, deadwood, seinfeld, weeds, oz, sopranos, big love, the wire, the corner, the tudors, south park, there's more, whatever...  movies, withnail and i, harold and maude, requiem for a dream, henry: portrait of a serial killer, spun, night of the hunter, leaving las vegas, panic in needle park, annie hall, eternal sunshine of the spotless mind, dead man, heat, the assassination of jesse james by the coward robert t. ford, tombstone--the one with val kilmer as doc, eye of the beholder, the libertine, the last temptation of christ, jacob's ladder, being john malkovich... there's more.  important thing to note is that, though my tastes in this department run a little low-brow, i'm not a philistine.  and clearly, i appreciate a good love story.  books are difficult for me to name as i'm an experiential reader; i become immersed in a story, or a voice, and while i'm there, it becomes my favorite.  i can often read beloved works again and again with a different experience each time.  i think someone once said that books are like rivers, they're different each time you enter them.  works that have influenced me... the carlos castaneda collection (the church of infinity, that's my religion), norma jean the termite queen, me talk pretty one day, diary of a dope fiend, the death of artemio cruz, morning of the magicians, anything by charles fort... okay this is too much, i've read soooo many wonderful books, and i've left soooo many with their covers unturned... shite, i can't remember the names of some of the ones i recall most fondly, okay--oxymoronic--the ones i partially recall most fondly.  my favorite quote... ummmm... i know you're not asking but when you read it? you'll understand why i'm including it and at the very same time? you'll wonder why:  i once inhaled a pretty full dose of ether, with the determination to put on record, at the earliest moment of regaining consciousness, the thought i should find uppermost in my mind. the mighty music of the triumphal march into nothingness reverberated through my brain, and filled me with a sense of infinite possibilities, which made me an archangel for a moment. the veil of eternity was lifted. the one great truth which underlies all human experience and is the key to all the mysteries that philosophy has sought in vain to solve, flashed upon me in a sudden revelation. henceforth all was clear: a few words had lifted my intelligence to the level of the knowledge of the cherubim. as my natural condition returned, i remembered my resolution; and, staggering to my desk, i wrote, in ill -shaped, straggling characters, the all-embracing truth still glimmering in my consciousness. the words were these (children may smile; the wise will ponder): a strong smell of turpentine prevails throughout. (oliver wendell holmes, sr.)  i think the parenthetic aside in the last sentence buttons it up perfectly; sort of a meta-quote, no? ummm... errrrr... it used to be my eyes but now it's my skates? let's see, i'm a good student, in spite of myself, and i'm getting to be a better and better skater.  i'm good at expressing myself.  i'm also quite good at finding places to use the ellipses.  i have an astonishing ability to construct long sentences without relying on the ellipses, the em-dash, or the semicolon, though i love them all... you'll find a 152-word sentence about love in the question section that's grammatically sound, in fact, there's only one comma that could be replaced by a period and the words \"it is\". so there.  oh yeah, and i'm on the interior design team for the place between that-which-is and that-which-is-not?  the op-art conquistador statue by the elevator? mine. writing, school, rollerskating, riding bike, samba...  i collect vintage bed pans.  i also collect mercury, big dead bugs, glass eyes, and prosthetic dental appliances... fledgling collections, these.  and also quite important? i want you to know that i'm serious about what i'm studying in school.  i realize that i may sound fluffy and impertinent but please, let there be no mistake about it...  ...wow, i forgot what i was going to say...  nope, as it turns out i didn't... the ellipses said it for me... well, to be precise, the ellipses helped you say it for me, though it probably wasn't phrased the way i would have phrased it.  whatever it is. =============== this is soozyqz's sister.  on december 3rd, my sister s. was hit and killed by a car while riding her bike.  i just figured out how to access her okcupid profile. for all of you who knew her here, she loved okcupid. it gave her a chance to meet people, have fun with language, explore the world - thanks to okq and all of you for expanding her life so wonderfully.  s's wit, intelligence, and sparkling sense of fun are terribly missed. i'll leave her profile and material up because it's so damned funny and like her, and because it means a little of her is still around.  ============================ what follows is s's own text ============================  tripper... big time tripper... big big time time time tripper tripper tripper tripper...  now whisper that aloud to yourself... do it again only a little faster with a little character in your voice, a sing-song rhythm... mind the pattern, especially the word time as three... go ahead, try it.  ahhhhhhhh!!!... it's like something opens up... interesting, yes?  new stuff on top of stuff once new, and in homage to halloween... i've decided to have my headstone digitalized, and this video will be playing on it: http://www.youtube.com/watch?v=kehxdue2h48&feature=youtu.be  this just in: i edited my profile and added thoughts with the words \"poop\" and \"pee\" in them and within minutes of posting it, eight men visited me... almost at once, two of them came back for a second visit within 5 minutes of the first; it begs the question, it really does.  item 2: i just got sick of myself, just this minute; i've edited this profile so many times, re-read it each time, gone back to re-read every time someone compliments me on it to reassure myself that i am, indeed, as clever as they think i am... all of this preening and punctuating... my god... it's too much, i'm breaking up with myself-right now.  for myriad reasons, some of them shameful to admit, some of them evolving, i have no digi-pic of myself that's at all representative... i mean, a pink bouffant, sassy as it is, a fair representation of me, is not... wait a second, i could be wrong about that... gotta think it through, do i want to post a bunch of pics... i used to have an interesting discussion about this, now i have interesting ideas for photos.  anyway, i think you should know that i'm reasonable, and fair, and until i get this photo thing put together--and that's going to have to wait until i take my christmas decorations down--i'm perfectly willing to show up for our first meeting without make-up, wearing my bra on the outside of my shirt.  what cheek, huh?  three times now i've tried to edit that last bit out and three times, i find it still there when i return to my profile.  i dunno, i guess it'll weed out the less stalwart amongst you.  for a quick start, i weigh 117 lbs, and i'm built like a bobcat, that is to say, compact, or in what's probably the proper okq parlance, petite (leaving out anything about strong), and my favorite color is pink, okay, not really, it's every shade of green well beyond the point at which it becomes blue.  blonde hair, light green eyes, two of them, people say i look eastern european, angles and planes i guess, maybe nose too, kinda hebe, the nose, teeth straight... my mouth is not thin-lipped, neither is my disposition... but then, now you have a photo to look at and you can easily see... that i dunno, green is my favorite color and my teeth are straight?  i ride a bicycle everywhere except for the places to which i rollerskate... quads (not in-lines).  i feel i should say here that i just got the skates a couple of months ago, riding my bike wasn't feeling enough like flying anymore, and i'm having so much fun on them i'm in danger of losing my mind.  i'm still my own best friend, i know, everybody says that, but this is real... when i start to toss around phrases like energetic states and paradigm shifts and pools of metaphor too often, i'm still the only person i can count on to tell me to \"shut the fuck up... you sound like a tosser and you're making me want to toss\".  until i find new words i like to refer to such things, i think tagging and shit to the end of them dignifies them a little.  i know i sound flip, what can i say? i guess i am, irreverent at the very least, and unapologetic about it.  it's a quality i've probably cultivated as protection for an exquisitely sensitive inner being.  am i concerned that i'll put people off?  not so much; i think that exquisitely smart and sensitive people are aware of people's layers.  me? i find people with many layers simply more stimulating.  and in summary of myself?... i direct you to consider that my favorite parts of the road trip--and i adore the road trip--are singing out loud to music playing on the car stereo, and spending the night in a tacky motel with a tiny swimming pool that looks out onto the parking lot.  i love the smell of the cheap carpeting and the institutional bath linens, and the clack-clacking of the vinyl blades of the vertical blinds.  and gassing the car up at night in a corporate superstation off of a superhighway under a cold and steadfast glare of blue-white light, the cars and the semi's fly past like whining insects... past the smell of french fries and bacon and engine exhaust...  under a canopy of stuttering yellow fluorescence, the battered one-man operation off the two-lane highway is just as delicious, with one horsefly, and two gas pumps that mark the passage of dollars with cash register bells... the vapors from the vintage nozzles co-mingle with the smell of wild grasses in an intoxicating miasma... and at nighttime, the only sound you hear above the ding-dinging of the bell is the male cricket rubbing his wings together, the serrated edge of a little toothed vein at the bottom of one wing drawn across the smooth top of the other, like a meth-addled hillbilly in love on a musical saw.  the nozzle is a dime-store pistola in your hand, with a shiny metal trigger that rattles in its housing like a loose tooth pinned to the jawbone of a skull with wire.  an acoustic guitar plays with a piano in the background as i play with this image, and i think of my brother carr and the dime-store pistola he put to his head, and the road trip we took together one night after he died... my eyes moisten and pool.  he did much of the driving; parking meters and brick walls teased the windshield as we careened through the city before heading out of town... or was the windshield taunting them?  odd how he's become younger as i've grown older... he's my baby carr-carr now, yet the memories he and i share are of him as my older brother by three years... even his name was beautiful.  and as to what my intentions are on this site, a man i communicated with this morning lightly scoffed the dedicated seekers of sex and soul mate and described his search with these words: \"... i'm more like a geologist walking along a riverbed, cracking rocks open to see if i can find a lovely geode.\"  i loved his image, and it spoke to my own purpose here.  of course i hope to meet someone lovely with whom i can refine an intimacy, the quality of which surpasses all others in my life to this point, and i travel in waters deep... but time spent on other planes has shown me that i don't require the things that i want the most.  i would describe my hunting style as similar to his, well... as i think about it... i've been very playful, and more than a little predatory this summer, what with being on break from school and all, but school starts in about twelve minutes, and then i expect i'll be strolling the riverbed cracking open rocks instead of hiding behind pink bushes and timing a pounce. \n",
            "\n",
            "i've been trying to eliminate the word 'should' from my vocabulary for a while. thus and therefore, i'm going with the below as a section header, as it were:  hey, it'd be a good idea for you to give me a shout ...  if'n you want to school a new(ish)comer on all of the fantastic things to do, bands to see, and places to go 'round these parts. my capacity for infatuation is limitless  lands end and fort funston should have some company on the places i know and love' roster.  if you have a high tolerance - or, even better, a penchant - for spunky women that use a lot of asides & parentheticals when they write ... and talk (because i do ... (a lot)).  if you know the difference between 'you' and 'ewe.'  if you want to know what my street/gangsta name is. seriously. i have one.  if you feel you may be suffering from a sassy mcsasserson deficiency. i can fill that void. it's my superpower. (yes, i have a cape. and i rock it so much harder than neil diamond did (does?) his ...)  if you're a force to be reckoned with ... and you use your powers for good.  if you know what song (in my self-summary) this* is a quote from without looking it up. (actually - ditto that for the various song references throughout this page. plenty of opportunities here, fellas - one might even say there's a plethora ...)  if you want to hear the story of my trying to save the whales having resulted in my being arrested & deported from a small island nation. or of my helping to save a rare marine mammal - in the desert in senegal, no less.  if you want someone to go sit in the sun at zeitgeist with  and by sit,' i mean drink beer and eat grilled cheese sandwiches.  and, perhaps most importantly, get in touch because ... you get it (you got it, you know it's good ...).  that all being said, if you're a heartbreaker, dream maker, love taker - i prefer that you don't mess around with me. ---------------  * on the 'replies [insert colored dot here]' front: i'm far more apt to respond to substantive messages than what that dot may indicate. so, if the above applies to you - or if it doesn't, but it's just because i've not yet figured out a quippy descriptor of all the fantasticness that you're rockin' - bring it.  also - okc likes to tell people i'm online all the time. it lies. thus, it may look like i'm ignoring incoming im attempts. this is not always the case. ---------------  and lastly, to all you fellas - peace and humptiness forever. say it with me ... 'tis private, so ... plus, i've signed a non-disclosure form with ... well, i can't say. you know - because it's a non-disclosure agreement and all.  however, i'll take this opportunity to share a story that's pretty embarrassing, but mostly really funny (at least i think so): once upon a time, many years ago, i was on a blind' date with a guy i'd met online  we were at one of my favorite bars (i mention this because i should've known the landscape well). i went to get us a few beers and on my way back, i forgot about the little step up to where we were sitting. i tripped in a spectacular fashion. went down like you read about. beers hit the ground and so did i. i laughed my ass off. but here's the best part  steel yourself: he didn't even notice because he was on the phone with another woman he met online that he was sweet on. no, i'm not kidding. you can't make something like that up. or at least i couldn't. (we actually ended up being friends. and i counseled him on his pursuit of said woman. that's how i roll ...) in the midst of shenanigans  and hijinx. getting into & staying out of trouble. building my fan base. and that's all before i leave the house.  (it should be noted here that such running amok isn't reserved just for fridays. it's been known to happen on other nights ... days ... evenings ... though not so much with mornings, really.) how little time i spend thinking about the things i think about a lot.  sex, love, and money. (as in, the mos def song (see 'favorites' section).)  how incredibly upsetting it is that 'if i should fall from grace with god' is in a subaru commercial. i don't know about you, but i'm pretty sure i hear 16 horse hooves coming this way ... quickly.  the good. the bad. and, yes, the ugly.  various okc phenomena: - what the hell these 'personality' categories are all about. okc seems to think i'm purt near off the charts 'indie.' i have no idea what that means. - the 'similar users' feature ... what are we, on amazon? - the 'visitor dance,' as i like to call it. such musing also extends to the mutual bestowing of stars with no resultant communique(s). - what it means when someone answers a question a certain way but says that same answer from someone else is unacceptable. (e.g., someone thinks that burning the flag shouldn't be illegal, but isn't down with me thinking the same thing? what gives? mystifying ...)  how much my love of this place grows every day  my infatuation with lands end, ocean beach, and fort funston shows no sign of waning.  lastly - and, really, perhaps most importantly: i'm on a quest to find out what kind of rhymes abe vigoda has. and, for that matter, how many rhymes phyllis diller has. i wonder if there's any overlap ... never say 'never.' (apparently, i can't live without adages.)  given the extreme nature of 'never do without', i hereby declare that the more appropriate list is of 'things i would really rather not do without ...'  said list, for now, is: 1. humor (not just a sense of it - that ain't nearly enough). 2. knowing i've got people that will always get my back and i will always get theirs. 3. the beauty and the power of unconditional love that's carried around on 4 legs. 4. a lint roller. this is not unrelated to #3. 5. knowing i'm doing the best i can to set things right and keep other things from going wrong (i mean this in both a 'big' and 'less big' sense ... but mostly 'big'). 6. soap. (i'm sort of surprised at how few people list this ... seems like our fair city would be sorta stinky if soap weren't around. i'm just sayin' ...) 7. i have a thing for prime numbers.  oh, actually - there is one thing i could never ever do without. and that is: more cowbell. so, these are just some of my favorites. keep in mind that this, as is the case with most things, is a work in progress. it may be pared down, it may well expand to swallow the universe - one never really knows (though i'm sure you suspect the latter is much more likely). meantime - get up on this:  on the literary front:  - johnny got his gun. i am shocked at how few people have read this book. it's amazing. seriously. go get it. right now. - bukowski. - i was really into henry miller for a while. i think i was in the midst of a dirty old man author phase, as i was all up in bukowski's business at the same time i was starting to read henry's stuff with a healthy appetite. - palahniuk. - dave eggers and other mcsweeney's stuff. - david foster wallace. (man, that's tragic.) - henry rollins - as a writer. and i heart his spoken word, which is really more like a 3d essay/comedy show. - world war z. (did you know that max is mel brooks' son?) - carter beats the devil. - dharma bums. - to kill a mockingbird. - the zookeeper's wife. - urban dictionary. - currently working on 'bossypants'. ---------------  for my listening pleasure - in no particular order (unless it's subconscious), a semi-truncated list to give you a broad picture of my music fandom so far:  - r.e.m. - johnny cash. - old school hip hop. (for example - i was leaving a bar the other night and the bartender played 'electric relaxation' - so i had to stay 'til the song was over. whenever i hear 'get it together,' the car (or living room or coffee shop or elsewhere) dance is inevitable.) *a tragic side note - rip, mca. why is it that we keep losing the good ones?* - mos def. (no, it's not old school, but i currently have a few tracks off of 'the new danger' and 'black on both sides' in heavy rotation on my iphone and can't get down the street without 'dancing' a bit while they're playing. it's unavoidable.) - replacements. - snow patrol. - cowboy junkies. - portishead. - the ramones. - velvet underground. - bob mould. - elvis - both of them. - prince. - pavement. - 'the muppet movie' soundtrack. (every time i hear kermit strumming the banjo in the very beginning of the movie, i tear up. seriously. and then there's the finale ... rip, jim henson. r. i. p.) - hiphopopotamus & rhymenoceros. - the man in black. (he was a big part of my childhood soundtrack, so i've always had a soft spot for him, but ... his version of 'hurt'? holy shit. stops me in my tracks every time i hear it. every time. even when i think i've prepared myself.) - chet baker - my god, that man had a beautiful voice. - john coltrane - if you listen carefully, the bass line for 'a love supreme' is all over the place. - ella & louis. - 'alt. country' - unfortunate genre name, but there it is. i listened to son volt almost every night while in the peace corps to help me process the day and get to sleep and was able to thank them once back in the states. - queens of the stone age. - james brown. you know, because he's got soul. and he's super bad. - bowie. **in case it helps, 'golden years' just came on after bon jovi and i'm doing the chair dance. i'm a paradox. - mr. cash. (anyone picking up on the fact that i really & truly love me some johnny cash?) - the waterboys. - john hughes movies soundtracks. - michael jackson - before it all went so horribly wrong. we're talking 'off the wall' (the album, not the characterization). i've discovered that there is no way to be in a bad mood when you're listening to 'don't stop 'til you get enough' or rock with you.' seriously. - william shatner vs joe jackson version of 'common people' - rediscovered it on my ipod the other day. fantastic.  i'm a fan of stand-up bass. and the banjo.  if i could choose to see any show ever in time, it'd be a toss up between r.e.m. early on in a small club in athens or ella & louis in some jazz joint. ---------------  things that make me laugh my ass off (of course there are many others, but this is both to give you an idea of my sense of humor (beyond the various stuff throughout my mo'file) and to share this comic genius with the universe. gasp-inducing hilarity ...):  - garfunkel and oates  these women are ridiculously funny. i'm jealous. this is a good place to start: http://www.garfunkelandoates.com/music/clips/18/this-party-took-a-turn-for-the-douche-official/ (i promise this is not a rickroll). - louis ck. - ricky gervais  in pretty much everything, but his bit about the aids prevention postcard in his 'out of england' standup? holy shit. i've watched it multiple times and i laugh so hard that i cry every time. - craig ferguson. - rescue me'  oddly enough. jaw-dropping in many ways, including in terms of being absurdly funny. seriously. watch it. netflix is your friend. - flight of the conchords  a few songs i'm especially fond of: if you're into it,' hiphopopotamus vs. rhymenoceros,' i'm not cryin', 'robot future.' - david thorne. holy shit. i started with this: http://www.27bslash6.com/easter.html and was able to get through 'party in apartment 3,' but had to stop because my stomach hurt and my tear ducts were exhausted from laughing so hard. ---------------  i've left food & visual stuff out (can you imagine how much longer this section would be if i didn't? the mind, it would boggle ...), but i am an avid fan of both. if you feel my favorites within said categories are somehow crucial as to how well we'd get on, i can send you a list - if you ask nicely, of course. those slow-mo scenes of people walking toward the camera (usually a group of renegade former law enforcement officers or some sort of military team)? that's how i move all the time. years of practice and self-discipline. and wind machines.  so, yeah. it gets noticed. i am incredibly talented when it comes to procrastination. thus my being so insanely prolific in my 'contribution' here. really, it's a cry for help. someone stop me. please.  i'm known for being resilient - i'm a champ when it comes to getting up when i've been knocked down.  i seem to be pretty good at entertaining people. sometimes it's even on purpose.  i excel at doing things that seem like a good (great! genius, even!) idea at the time. (they quite often aren't.)  i have a ridiculous ability to recognize and take advantage of opportunities for saying 'that's what s/he said' and crafting other sophomoric innuendoes. apparently, i'm channeling my inner 8th grader. tragic, but true.  i'm brilliant at coming up with band names. same thing for would-be fantastic t-shirts. if you have a silk screen press, we definitely have something to talk about.  i always have ibuprofen, clif bars, bandaids, and gum with me. i'm pretty sure that's in the 'army survival manual fm 21-76.' so, i think i'll be alright should shit go horribly wrong.  things that i know how to do but need/would really like to brush up/practice on (ayup - extremely subtle hint that if you have coaching/mentoring inclinations (or a sailboat! or shell ...), this here may well be an opportunity for you): - sail (i learned here. ruined me for everywhere else.) - scuba dive - row/scull - play pool  i'm obviously not good at self-editing (this is true on many levels). right this minute (the ides of may), i'm sitting in a cafe listening to 'wanted dead or alive' on my headphones. no, i'm not kidding. and no, i'm not being ironic. i really and truly love this song - for sentimental reasons, mostly, but come on ... it's pretty great. just got to the part about seeing a million faces and rocking them all - i'm having a very hard time not raising my arms in the air and making the 'rock out' sign. again - not. kidding. [i'm beginning to wonder if the 'most private thing' section might be the more appropriate place to put this particular tidbit.]**  practicing how to walk in just like smoke (with a little come on, come on, come on) ...  launching a new radio show called 'some things considered.'  talking to and befriending strangers (i know, i know - rick springfield would disapprove).  keeping hope alive.  chasing the sun around the city.  going to 11.  making snapdragons talk.  using 'beschwipst' (i just learned it) as often as possible. seriously.  oh, and also ... i've been working to save the world - starting with the oceans - for the last 10 years. 'the man' is pretty slippery, but occasionally, we've succeeded in convincing him to do the right thing and/or stickin' it to him. i feel pretty good about that. alright, stop what you're doin', cuz i'm about to ruin ... the image and [profile] that you're used to  (ok, i've taken liberties here, but i'm pretty sure that shock g would be proud.)  also ... you might want to pay attention. my intention is to bust a move. ---------------  editor's note: i've quite purposefully used somewhat enigmatic photos - enough to show you that i'm not hideously deformed yet vague enough so as to maintain some semblance of 'anonymity.' so, for any of you fellas out there that worry that having hard-to-discern profile photos portends an aesthetic deficit, i hereby declare that that's not what it's about. that said, if'n we've got a rapport going, i have been known to send a picture (of myself, even) upon request. ---------------  one of the reasons i'm 'here' is that i'm new(ish) in town and i'm hoping to find some folks to show me what's the what in this fine, fine city and its lovely surrounds. i know there's just an absurd amount of stuff to check out. if'n you're new in town too, we'll figure it out and take this place by storm. consider yourselves warned, fellow denizens. it. is. on. ---------------  as will become painfully obvious, this is pretty much the opposite of a summary. rather, it's a rambly jumble of stream-of-consciousness prose with pervasive pop culture references. at this point, i'm fairly confident that it has become an ongoing* exercise in mental masturbation. there. i said it. knowing it is half the battle. (*no, i didn't put this together all at once. that, i could definitely see as a little  crazy. this little beauty's been a work in progress for the entirety of my okc lifespan.)  that all being said ... here we go, yo:  i'm a smarty-skirt, sassy, plucky, iconoclastic, and i've got moxie* (no, not the soft drink. though i do wonder if it's any good ...). as you may have guessed, this violet doesn't shrink. [* i had photographic evidence of the moxie possession posted, but okc made said evidence disappear - bastards!!!]  i'm quite excited that i now have access to a bike (a lovely old schwinn, no less) after way too long without one. if you see a girl with short hair on a schwinn smiling and laughing and exclaiming 'look at me! i'm on a bike!' with childish glee, it's probably me. come say 'hey' ... or run. either way.  i'm bringing foxy' back into the vernacular. i am, however, not bringing redd foxx back. that'd just be creepy.  i find it a bit disquieting when i can't see orion in the night sky.  i say 'gesundheit' whenever i hear someone sneeze, no matter how far away they are. i'm a little disappointed if there's no 'thanks' or acknowledgement in response.  i have a proclivity for sesquipedalian verbiage.  i think scars can be beautiful. they oft add interest and character and there's always a story behind them - not that they're always stories that the scar-bearer wants to share, but they're there.  i'm sweet like a peach and tart like a plum.*  i sit in the bus/train seats that are reserved for disabled/elderly folks so that if someone needs a seat, i can give them mine. i encourage you to do the same - it should most definitely be a movement. mos def.  i'm fiercely loyal. i'm one of the best advocates you'll ever have. i'll get your back.  i help worms across the sidewalk so they don't get stepped on - though i occasionally worry that i've put them on the wrong side of the sidewalk and have set them back in their journey ... or perhaps upset the universe due to the worm phenomenon (more commonly known as the butterfly effect). i also escort spiders out of the house. them, i'm not so worried about.  i'm spontaneous, but i'm in no hurry. --------------  i walk the walk when it comes to important stuff. however, anything that sounds like i'm full of myself/braggadocious/vainglorious? that's just me being quippy and ridiculous (... i'll eat up all your crackers and your licorice). there's no perambulatin' on that front. \n",
            "\n",
            "[please note that there is no need for you to meet any of the following criteria in order to message me.]  ...if you're searching for a friend you can talk to about anything, during all hours of the day with few exceptions. this isn't something i'm looking for from a lover, necessarily, but i am looking for it from somebody.  ...if you'll have the courage to kiss me first. it's only happened twice in my entire life, and i'm generally rather tired of always having to make the first move.  ...if you live somewhere around the bay, and want to be my friend.  ...if we match 90% or higher in the friend category, no matter where you live.  ...if you are intergender, genderqueer, genderfluid, or identify as any other kind of non-binary gender. i tend to get along with these people the very best.  ...if you'll let me be the little/inside spoon, despite the fact that i'm six feet tall.  ...if you're new in the bay, and want suggestions for things to do in the queer or kinky communities. i have gained a lot of incite in to both since i've been here. we don't even have to hang out; i will willingly volunteer this information to you over email because i sympathize with being new in town.  i'm interested in people who would rather go on a picnic, on a warm, sunny day with their best friend, than receive the most expensive gift in the world. you can not buy happiness. so i suppose this section is for confessions? well okay...  i have a lot of trouble relating to cis-males. the kinder, gentler, less sporty ones make this easier though.  i really enjoy looking and acting feminine, except for the occasionally feeling shunned by society part. moving to the bay has made this a lot easier on me though :-d  i have a lot of love in me to give, and that's no exaggeration.  nothing makes me swoon more than when a special somebody leans in, and kisses me first. it's only happened twice in my entire life, so i tend to really cherish the moment when it happens.  i really like sex (i'm actually rather insatiable), but i only very rarely fantasize about having sex with people who i've never been sexually active with. instead, my fantasies tend to revolve around flirting, and that elusive first kiss that i mentioned above.  yes, i'm this weird even when there's nobody around to see it. i don't like the way okc phrased this question because i'm often working on friday nights. instead of telling you what i do on fridays, i'll just tell you what i like to do in my free time.  seeing as how i just moved to the bay area, and am developing a new life, this section should be considered a work in progress. especially because the bulk of it has carried over from my life in cincinnati.  i like to spend most of my time off with other people; i crave social interaction, and only like to spend two or three nights alone each month. i love to go out, and meet new people. i'm down for a noisy bar or club, but only if it also involves dancing. if there's no dancing, i prefer a quieter place where people can hear each other when they talk. but really, i love to dance in clubs, especially if i can find a good partner.  even though i like to go out and about, many of my evenings are spent in friends' living rooms. there, we converse, drink, smoke, watch a movie, play a game, and/or make art. not that we necessarily ever do all these things at the same time, but i think you get the point. the world. the human race is in more trouble than we've ever been in before. fascism is vast in asia, africa, and south america, and is spreading in the western world much faster than most people realize, or would like to admit. the midwest, where i come from, is in a horrid police state; having escaped it by moving to san francisco is a welcome relief.  racism, classism, sexism, a bunch of other negative -isms, and how i might be able to help rid the world of them.  relationships, whether they be platonic, sexual, or romantic. i try to stay friends with almost everyone i know, which is often difficult. my mind is full of drama.  sex. i think about sex a lot, and not just me having sex. i think about the power that sex has over most people, about how not nearly enough is done to educate youth about everything around sex, and about how so many adults don't know everything they should about it either. i ponder how the relationships i have with my friends would be different if we had slept together at some point, or if we'd never slept together. but also, my sex drive is rather insatiable, so i do think about myself and sex a lot. first and foremost: good friends (seriously, i'd die)  long distance communication (either a phone, internet access, or even just good old fashioned letter writing; i'd feel lost without at least one of these things)  nature (as in going out and experiencing it)  a thesaurus (a dictionary almost made the list, but i use a thesaurus far more often.)  love/affection/cuddles  learning i feel that i should tell you that even though i'm cooperating, and making these lists, this is the one section that i always skip over when i first read somebody's profile. i'm 100% confident that i can be friends, or even lovers, with somebody who has different tastes in entertainment, sources of knowledge, and cuisine than i do.  (books) hitchhiker's guide trilogy, celestine prophecy, am i really here?, catcher in the rye, mysterious stranger, brave new world  (movies) moulin rouge, the matrix, harold and maude, benny and joone, fantastic planet, headwig and the angry inch, anything directed by danny boyle or steven spielberg, and i'm always down for a documentary  (music) bnl, atmosphere, all good funk alliance, the handsome boy modeling school, hilltop hoods, mgmt, gnarls barkley  (food) pesto, pizza, golden delicious apples, most things indian, and cheese. please note that while i do occasionally eat meat, no meat is on this list.  (radio/podcast) this american life, a prairie home companion  (tv) 30 rock, futurama, south park, this american life (tal was short lived on tv, but episode one of season two is my favorite episode of anything, ever. it's on netflix, but i must warn you that you might cry and laugh at the same time.), the daily show, nova usually, the very first thing that people notice about me is that i'm wearing rather femme makeup. if my hair is down, i receive frequent remarks about how long and beautiful it is.  besides the physical, people also notice that i have a lot of courage, often peculiarly accompanied by a difficulty in speaking up. i find it incredibly easy to get on stage, or to just walk up to strangers and attempt to start conversations, but i don't always have the easiest time chiming in on ongoing conversations. just one of the many ways in which i am an oddball. ...writing lengthy profiles about myself. [insert comical drum snare here.]  ...keeping my cool in tense situations. i'm really good at keeping discussions from turning into arguments, even if the other person is irritable. i'm almost always able to help settle disputes between two friends who are too mad at each other to talk otherwise. likewise, you'll find that no matter how much you scream at me, i'll never yell back. i have been known to cry though.  ...talking about what's going on inside my head. this is an especially practical skill for me because apparently my facial expressions can occasionally be very difficult to decipher. i'm also really good at getting other people to talk about what's going on inside their own heads; i'm very empathic.  i love to sing and dance. i'm pretty good at both, but my singing is definitely better. i really enjoy going out dancing at clubs, so long as they're not too crowded.  i'm really good at starting conversations, and at breathing new life in to group discussions once they get stale. i'm kind of bad at participating in group discussions though, although i try. i'm strange like this. relatedly, i'm also rather fearless when it comes to talking to strangers, especially if they're cute.  i enjoy paying attention to politics and occasionally getting pissed off at our government. i read (and very occasionally watch) the news habitually, on a near daily basis.  i have never lost a best two-out-of-three thumb wrestling match. i used to challenge everyone i met, but winning got boring (this was back in my teens). if you think you can beat me, i'll welcome your contest, but i am totally, 100% serious about never having lost before.  and cooking! not something i do every day, but it's certainly my most practical skill. i know my way around a spice rack pretty darn well, or at least i like to think so. usually when i cook, it's a soup or sauce, and it's almost always vegetarian or vegan. i'm not a vegetarian myself, just health conscious. i just moved to the bay, from cincinnati, simply because it has been my dream to do so for nearly a decade. i knew that, if i moved out here, i would finally be free to be myself everyday without fear of ridicule, and that my prospects for making would increase. after years of saving, i arrived on april 14th, 2011, with no job lined up, and only a couple of cousins to stay with. after many months of searching, i finally found employment which is slightly gainful, which has allowed me to settle in.  i now live in a wonderful house, in west oakland, with five others who are just as queer as i am. my housemates have become some of my dearest friends, and i know they're just as happy to have me in their lives as i am to have them in mine. in the short time i've been in this city, i've made more friends than i've ever had before, and life is downright wonderful as a result. in fact i dare say that, aside from my low wage job, i've never been happier.  recently, i retook-up painting. i was formally trained with oils, for two years, in high school. painting with oils takes forever, but that's part of what i like about it. my art from my teenage years was lost, when an ex threw it all in the trash. i can't replace what was lost, but i'm working on new things now.  i would like to go back to school, once i've been in the state for a year, have residency established, and thus cheaper tuition rates. i am disappointed at the lack of gender choices on this website. as a result, i often change my label (on here) between male and female. when i list myself as female, i label myself as gay because i'm sick of all the straight guys' disgusting one-liners. when i list myself as male, i label myself bisexual, but that's only partly true. to find out why, read further.  if you installed this script, you'd be able to view my profile properly. the script will force okcupid to properly display my gender identity and sexuality at the top of my profile. (for those of you using the okc app on your smartphones, there is a link there that you can only see through a web browser.)  i used to think i was a woman trapped in a man's body (transsexual), but i now realize that i just want people to treat me differently, in the body i'm in. my body isn't the problem, everybody else's perception of it is! i don't identify as either male or female. i currently define myself as intergendered, although the broader terms  genderqueer and \"non-binary gender\" also fit. my preferred pronouns are neutral ones. they, them, zi, zir, or anything similar are all fine.  i'm too femme for most straight girls to be romantically and/or sexually attracted to me, and have the wrong genitals to be enjoyed by lesbians. this usually leaves me only able to date bisexual and pansexual people. i'm totally fine with only dating these people, i only wish there were more of them, as they are a clear minority. at times, the limited selection makes my romantic life rather difficult.  i always want to be friends before being lovers. i do not do one night stands, and try my best to avoid potentially short lived relationships. that being said, most of my friends are  polyamorous, and so i tend to be polyamorish as well. i date around a lot, but what i'm really searching for is a relationship that will leave me so satisfied in and of itself that i won't feel a desire to date other people even if i still have the option to. this is something that i know is out there for me; i just need to find the right person. (if you think we'd make good, platonic friends, don't let this last paragraph keep you from writing to me!)  when i'm in a good mood, i'm generally very flirtatious. and when i do find somebody who i'm really attracted to, i have a tendency to get really giddy, which i personally rather enjoy, but it does have a tendency to make my attraction worry that things are moving too fast. it's not uncommon for me to be compared to a flirtatious school girl.  i'm at a point in my life where i can't have sex with anybody solely because i find them physically attractive. i'm almost a demisexual, except i'm just ignoring primary sexual attraction, and only looking for the secondary attraction. this is as opposed to not having primary attraction at all, like a true demisexual would. (for the definitions of demisexual, primary attraction, and secondary attraction, look here: http://www.asexuality.org/wiki/index.php?title=demisexual)  back in the day, the first thing okc had you fill out was three adjectives that describe you. mine are, in no particular order, queer, pragmatic, and nurturing.  i hate money with a passion. there's nothing fundamentally wrong with money, but the current system is so fucked up that it's become merely a means of keeping the people currently on top in their places of power. i'm happy making just enough to get by, but i'd be happier with a more meaningful job (i'm actively looking).  in case you noticed that my religion says, \"other and somewhat serious about it,\" and you're wondering about that, i'm a unitarian universalist. being serious about being a uu really doesn't involve that much, since the main principles of the religion say that you can believe almost anything you want. around half of us don't even believe in any deity, including myself. in short, i'm serious about peace, love, constructive debate, a constant desire to learn, and everybody getting along with everyone else.  i really am 6 feet tall, and on the skinny side of average. according to oktrends (http://blog.okcupid.com/index.php/the-biggest-lies-in-online-dating), most people lie about seemingly harmless little things, like their height, body condition, and income. i swear, to what ever it is that you believe in, that i have not told even the whitest of lies in my profile.  if you haven't figured it out yet, my strategy for creating an online dating profile is to include as much about myself as possible in one. i believe that boundless honesty is essential in forming the most meaningful relationships, and that's what i'm here for, so i'm trying to put as much out front as possible.  i used to act with cincinnati's local rocky horror picture show cast, the denton affair. shadow acting, but still lots of fun. occasionally, i think about doing more stage work. so far though, i've only thought about it. rocky horror really aided in my self discovery.  for anyone that cares, i am a cancer-leo cusp. my birthday is right smack in between the two, and you won't find more of a cusp than me. i don't really think it matters, but some people seem to think this makes me extra awesome, so i won't hold it against you if you do.  i'm a 2 on the kinsey scale, if you assume that i'm male (the kinsey scale doesn't work with non-binary genders). i'm totally not against cuddling and kissing the right kind of guy, but be aware that there will (probably) be no in-pants action going on! i suppose that this means that i am more  heteroflexible than bisexual. of course, the dilemma with this labeling is: how can i be 'heteroflexible' if i don't identify as either of the binary genders? but i have yet to find a more suitable label. the \"right kind of guy\" is, by the way, more often than not genderqueer, and effeminate, like myself. \n",
            "\n"
          ]
        }
      ]
    },
    {
      "cell_type": "code",
      "source": [
        "print(\"Yanlış Tahmin Edilen Erkeklerden Alıntılar\")\n",
        "print('--------------------------')\n",
        "for row in bad_men:\n",
        "    print(essay_sex[y == 1].all_essays.iloc[row])\n",
        "    print('')"
      ],
      "metadata": {
        "colab": {
          "base_uri": "https://localhost:8080/"
        },
        "id": "P4k46XTmPkrL",
        "outputId": "af5d9156-df44-497c-8e41-cc52fb76d4fa"
      },
      "execution_count": null,
      "outputs": [
        {
          "output_type": "stream",
          "name": "stdout",
          "text": [
            "Mis-predicted Men quotes\n",
            "--------------------------\n",
            "if you want to.  for any or all of the inspirations mentioned below. or others.  you feel. and love feeling as a primary mode of being & relating.  one basic requirement is the expression of at least a basic level of integrity in your way relating with people ( of which i am one, of course ) by communicating honestly & responsively with people whether you are personally interested in them or not. expressing interest in meeting with someone, or meeting then simply ignoring & not communicating honestly & timely with them about meeting again or to their communications is a strangely disconnected, unintegral way of being that seems to be too common in this society.  i make a point of respecting people equally to myself even when i am not personally interested in relating with them again, by at least respecting their equal humanity, clarity of energy i contribute to the world & my own integrity enough to respond honestly & timely to offers & questions, rather than being dishonest & ignoring them, leaving them unclear on what my interest & intention is. even if simply to say i am not interested. or i am and lets plan for such and such a time, and actually follow through. i am only open to relating with people who share this fundamental maturity & empathic human respect.  if your idea of an enjoyable first meeting is not sitting in a loud coffee shop straining to hear each other amidst the auditory & energetic noise, but sharing & learning about each other while engaging in some type of creative activity together like yoga, qigong, hiking, making something, sharing a skill, receiving massage, or something similarly engaging, i am down!  you want to share an honest, emotionally & sexually open and loving intimate friendship.  if we feel comfortable with each other, you enjoy & want to receive focused, highly nurturing affection through nurturing, sensually meditative massages for many hours at a time as an expression of sacred service i deeply enjoy giving.  you want a loving cuddle buddy!  if you want to share some skill or service you have, for massages from me. trades can be wonderful!  you want to learn more about ourselves and respective interests through relating with each other.  you enjoy leisurely hikes through the marin headlands, or other quietly natural areas.  want someone to go on bicycle adventures with.  want someone to practice yoga, meditation or related experiences with.  have a question or suggestion? ask me.  sometimes i leave my computer on and browser open while i do other things, so if my profile says im online now and i dont reply to your message right away it does not automatically infer i am ignoring you. just that i may not actually be near my computer at the time. messages from okcupid are also forwarded to my smartphone so i receive them instantly, and if i'm available at the time i can often respond fairly promptly. ( i just need to remember to turn it off at night so i don't wake myself up with email notifications like happened recently : ) ). selectively, in person. if i feel comfortable with you, and you truly have an open heart and mind, i am usually quite honestly open about feelings, thoughts, whatever you are curious about that i can share or discover. reading, providing massage, practicing neigong, thinking of ways to help support a healthfully sustainable lifestyle, community and world, or something else. love.  solitary sufficiency and mutually fulfilling, equally desired, intimately affectionate relationships.  friendships.  how much healthier and more harmoniously respectful life and relationships flow when people tell the whole truth to ourselves and each other! seriously, this is really important, even with people new to us. this is basic respect, and helps dispel illusions or projections through the process of open-minded, unassumptive listening and sharing feelings, thoughts, perspective and such.  how most of the time worry is simply mental noise which is less real than the pure divinity, beauty, loving and lovable being i and others are now.  a world with only organic & unprocessed foods, oil-less / ecologically / politically benign transportation methods and peaceful, prosperous and environmentally healthy coexistence among people and nations.  and often doing my best to not think, rather just be, feel in the present moment with a quiet, clear awareness. ( define \"i\" )  but, playing along with this relative query -  loving & being loved.  breath.  a personally meaningful life which simultaneously gives to others.  autonomy & much emotionally, sensually & sexually affectionate intimacy where respectively desired for everyone.  honesty and emotional openness in personal relationships.  and i am rather quite fond of indoor plumbing and on demand heat. many favorite books... emotional intelligence. pathwork. karezza. astrology, psychology and the four elements. bodyworlds. introvert power. seth speaks. the nature of personal reality. transcendental sex. the multi-orgasmic male and the multi-orgasmic couple. jobs body. born for love. touching, by ashley montagu. warriors of stillness the omnivores dilemma and many more. the hunger for ecstasy - fulfilling the soul's need for passion and intimacy by jalaja bonheim. in praise of slowness. currently enjoying \"teaming with microbes\", about the life of soil! while multitasking reading bits of other books. :)  i have not owned or watched tv for many years. also rarely watch movies anymore. although i do love watching interesting educational and documentary films on my computer, and would enjoy doing so with a new friend ( perhaps you ) who loves exploring with each other various realities and ideas presented.  organic, fresh foods ( especially raw vegetables, fruits and such ) without sugar or other additives are great! i rarely eat \"out\". in fact, it may seem i rarely eat, much of the time.  music - ambient, trance, misc.... * solar fields * aes dana * carbon based lifeforms * the orb * ambient temple of imagination * aphex twin * lisa gerrard * massive attack * alanis morisette * fleetwood mac * enigma * ministry * rammstein * ministry of sound * peter murphy * sarah mclachlan *tangerine dream initially quiet yet sincere, perceptive nature. especially with someone i am attracted to, i sometimes tend to be reserved initially as i learn what your boundaries, openness & interests are with me. once mutual attraction and openness is understood, i am quite fluidly expressive with affection.  my sincerity.  that i am friendlier and more emotionally warm and present than my pictures might seem to convey. my bright blue eyes. i've been told i'm notably facile at providing deeply nurturing, all day massages, a caring and empathic listener, and introspectively or in some ways intuitively aware, among other qualities. my career and passion, which is what i focus on the most in action, feeling and thought is focused on realms of quiet awareness and mindful embodiment through the arts of massage, and practicing and teaching tai chi qigong & zhan zhuang.  if you are interested in qigong, a link to a couple videos of me practicing tai chi qigong a few years ago are -  http://www.youtube.com/watch?v=kjkbs5awx8u&list=uufpb56c8qvnp-d1kbwtz-hw&index=4&feature=plcp  http://www.youtube.com/watch?v=dney4po5viw&list=uufpb56c8qvnp-d1kbwtz-hw&index=10&feature=plcp  also taking an organic farming & gardening program at college of marin since spring 2012 semester, learning to grow organic vegetables, fruits & herbs, as this essential & wonderfully natural knowledge has mostly been lost by urban dwellers, myself included until now. and this is valuable for harmony with life, and for practical reasons with the declining oil and outsourcing of so many vital aspects of living. learning how to share this knowledge with others as another way of contributing to a sustainable, thriving, loving personal and collective reality.  am not into tv, have not owned one for years and frankly don't like the noise and superficiality of most of what they convey.  much more interesting i find reading a book on organic farming, gardening, healing arts, consciousness or something similarly interesting. and practicing qigong, yoga, giving ( and sometimes receiving ) massages, relating with plants in a garden or farm, going for a hike or other nature excursion, cuddle, listening to feelings & thoughts of those i care about and share my own, learn something new, just quietly being... ( a personal reference from art_phoenix -- click on name to link to the okcupid profile of art_phoenix. http://www.okcupid.com/profile/art_phoenix  \"this guy is an amazing friend to have. a massage session with him is timeless and incredibly sensually nurturing. give him a chance to show you he is honest, open, very affectionately giving and reliable, and he'll live up to what he says he is.  he'll accept you for who you are, and how you feel, so just be honest with him. there is no such thing as too much or too little. just say what you want, and let him know if what you want changes. he's not a creep, just more spiritually grounded & openly sexually giving than you'd expect from such a nice man. feel feel to message me if you're looking for more outside thoughts.\" - art phoenix. )  we are certainly more fluidly expansive than a few paragraphs can convey. i was tempted to write a short, one or two paragraph profile for brevity. too many words in some ways, i wrote. though given a common tendency of people to fill in what is not said with assumptions and past experiences, i opted for writing more here.  but i am more open & less complicated than the copious words may infer. and according to a number of peoples comments recently, my pictures need changing as i apparently am more attractive in person than in these photos convey. hmmm, if you have photography skills & want to trade for multi-hour massage sessions from me, send me a message!?  and am open to diverse types of mutually relating, however one chooses to label, or not, such.  a note about the inclusion of casual sex, as well as long and short term relationships in what i am looking for - i checked that because i am open to nonmonogamous relating when done honestly. and to relating to sexual sharing as deeply nurturing, free flowing of loving energy through ourselves to each other. this is ultimately what sex is to me, purely opening ourselves up to the very real, palpable sea of life energy which surrounds and creates us, and flowing this in appreciatively nurturing ways to the woman i am giving & relating with.  this involves a mutual, equal respect shared with each person i choose to relate with. even if only relating as lovers who get together on an ongoing basis solely to share loving energy of sexual affection, i still give & will only relate with people who share equal appreciation & reliability in making & keeping time to relate. and being fully present while doing so.  we can pleasurably grow by many different ways of relating to each other i feel. as long as mutual respect, appreciation, desire to be empathic & kind and spiritually loving is our guiding intention, i am open to relating however feels mutually enjoyable.  some prominent aspects of my being include:  i am a massage therapist and tai chi qigong & zhan zhuang practitioner & teacher - http://www.harmoniousembodiment.com is my website if you are genuinely curious - by love and profession, and these realms occupy much of my consciousness. though in a quiet, unassuming way. i dont believe these arts make people any better than anyone else, contrary to some attitudes ive encountered. just a focus i find rewarding and helps me accept & explore the lighter and darker aspects of consciousness with more grace and honesty than i might otherwise.  i have also found yoga and dance to be enjoyable ways of complementing my neigong practices. and have done both off and on for years too. i love the beautiful feeling of accepting, present attuned grace flowing through the body!  recently relocated to marin, where i am rebuilding my massage & qigong profession . and learning how to grow healthy food through attending an organic farming and gardening program at a community college. living in novato.  i am open to meet genuinely mutually appreciative, attracted, spiritually grounded, autonomous yet emotionally available and loving women to share an intimate, affectionate long-term friendship. or whatever type of mutually enjoyable connection we feel like sharing.  i am more of an introvert. though learning to balance this more.  generally i prefer...  books over television. one-on-one relating over loud groups. cozy, quiet and close connections over parties. hiking over spectator sports. giving luxuriously slow, affectionately present sensual massages, cuddling & sexual loving for 4, 6 hours and, when free time & mutual desire align, full days & nights at a time as a meditative honoring of the sacredness of our embodied spirit and pleasure.  i also enjoy organic gardening, meditation, tai chi qigong, acroyoga, have practiced yoga & dance off and on for years as well, reading nonfiction books on health, consciousness, healing arts, ecology, etc and similar ways of exploring life.  in some ways i have been very focused, consistently practicing embodied meditation arts for my entire adult life. exploring ways of harnessing this delicious peace, comfort and loving acceptance through massage and qigong. and i enjoy sharing these realms of spiritual awareness enhanced by being in a body.  in some ways i feel i have been scattered at times, having many interests to the point of not knowing which to pursue. now i am branching out from meditative embodiment practices to include organic farming.  i deeply enjoy giving affectionate, nurturing pleasure to a lover when appreciated. this is also a significant reason i became a massage therapist: to give meditatively nurturing, life affirming embodied energy as a service, in a more general way than i give with a personal lover. and to share more inclusively with intimate friends who genuinely love & like each other.  i feel that giving loving pleasure is one of the most valuable spiritual gifts of our human experience. life is inherently rooted in thriving by mutual pleasure as the healthiest way of being and growing. pleasure feels good because it is deeply healing, and elevates our vibration, our spiritual clarity, emotional outlook and physical health substantially.  i \"practice\" a taoistic approach (similar to tantra) to sexual lovemaking, which involves my retaining my sexual fluid, consciously flowing loving energy from spiritual source through my being to use for cultivation of nurturing energy, empathy and sharing loving communion with own soul and the woman i open & share with. this also extends the quality and time spent dissolving into sexually loving union with a lover, with emphasis on feeling quiet minded, living in pure awareness, and giving pleasure to the woman i am relating with.  life is too short. our relationships and integrity are too precious to assume there will always be tomorrows to honor our word. so making space and time in the present to express care, to follow through with intentions is one of the most important aspects of being alive.  background & perspective:  between medical issues resulting in multiple, major surgeries to stay alive, knowing many people who have died young, working in hospitals and hospice, i have learned to value life, sinking into enjoyment of simply being, and relationships in the present by doing my best to prioritize making & keeping plans to share companionship with people. equally to fulfilling my needs for healthy autonomy. openness breeds openness.  especially fond of being comfortable with silence. including relating with people who are able to enjoy each others company both with mental-emotional sharing verbally and with quiet appreciation of life, each other and feeling. \n",
            "\n",
            "i am looking for someone who possesses qualities that are essential to a healthy relationship. i am looking for someone who is totally truthful, loyal and sincere. who is understanding, compassionate, respectful, passionate, accepting, intellectually stimulating, and has a sense of curiosity and sense of humor. who is communicative, honest, and when necessary sympathetic. who is affectionate, supportive and loving. who is attentive, devoted and sexy. who understands the importance of a respectful companionship, where we each are able to retain individuality yet be comfortable as a pair. who knows the grass is greener where it's watered. who wants a relationship where we both feel enriched and empowered not drained and despondent. who from spending time with i find i am a better person for having known. most important..i am looking for a long lasting love and long term relationship which would possibly lead into marriage for me and that would be a great achievement for me. someone i will spend the rest of my life with, i have achieved a lot in life, so i do not need to start going up and down looking for what is not right. i am very matured, sincere and very loving, honest, caring and very romantic. we can take it slowly and get to know one another. but i tell you..i am that man you are searching for. you have my words, i am not telling you all these to win your heart. i am only telling you who i am. to me the most important thing is behind the skin, what is inside the heart, and not what is outside. i have a very good heart. and good sense of humor.could this be you? then message me please and don't keep me waiting it's private. please ask me hanging out , wine tasting at a nice restaurant...movies...a long drive across the town to discover places...., how to make the world a better place for you and i and the entire human race helping the less privilege love making new discoveries god sports i'll let you know music  i love all kinds of music. i must say though that my favorite is 70's r&b. i love artists like marvin gaye, aretha franklin, etta james. love jazz and love 80's music. but really i like everything as long as it is quality.  movies  this is a hard one.....there are too many but i can a name a few off the top of my head that i love.  shawshank redemption primal fear cast away diary of a mad black woman notebook you've got mail i'll think of some more soon  television series  my favorite television shows are prison break, heroes, extreme makeover:home edition, grey's anatomy, and a few other reality shows. books the shack....a heart like his....my sister's keeper....5 people you meet in heaven.  food: meat and vegetables....fish broiled with mostaza and garlic and peper....... tomates with goat cheese. as salad ....broccoli and rice with a white wine sauce....seafoods....grilled chicken with salad with salmon. cheeses shrimp cocktail, fruit pie, lasgna, cheeseburger, a promising smile of hope putting smiles on people's face, helping the less privilege, everything i lay my hands on. searching for my missing ribs{soul mate}, living a fulfilled life by being kind to everyone that comes my way.....making charitable donations and visits to homeless shelter and orphanage home....... making more progress in life.....having fun when it's necessary....enjoying the good things that life has to offer me and looking forward to the once yet to come..... in order to get to know people in life, you have to know where they've been, where they are, and where they are going. you should study their attributes, their flaws, and learn what turns them off and on.i was born into a christian home and have a very loving family. every moment, through the happy times, the growing times, and the sad times. i wouldn't change them for anything. as far as relationships go i have found that after a while you learn the difference between holding a hand and chaining a soul, and you learn that love doesn't mean leaning, and company doesn't mean security, and you begin to understand that kisses aren't contracts and presents aren't promises, and you begin to accept your defeats with your head held high and your eyes wide open, and with the grace of a woman, not the grief of a child. you learn to build your roads on today because tomorrow's ground is too uncertain for plans, and futures have a way of falling down in mid-flight. after a while you learn that even sunshine burns, if you get too much. so i am learning to look forward to the rain. so you plant your own garden and decorate your own soul, instead of waiting for someone to bring you flowers. if you are willing to give changes a chance.  describing oneself and what one is looking for is difficult but here goes. i believe in commitment and can love unconditionally with constant faith and trust. i am self-defined and strong enough to take charge without stepping on others feelings, yet humble enough to be a passenger when someone else needs to drive. i will try to have such an impression on your heart that i will be your first and last thought of the day. i have class and style topped off with a down to earth flavor. i believe that love can exist beyond the pain of past relationships. i can laugh at myself and not take everything too seriously. i am grounded in reality and recognize what's important in love and life. i am caring, sincere, independent and responsible. i am attractive and care about my overall appearance. i enjoy outside activities. i like old movies, theater, dining out, the night life, long drives, surprises, traveling, romantic getaways, long conversations, reading, , helping others.i am good ; respectful and caring; lot of fun; eager to please someone i like; i listen to you and i hear; i give you my opinion but i am not judgmental; i am very playful but know when to be serious; i can be very romantic, sensual, and steamy; i am loyal, dependable, stable and grounded; and very happy with where i am in life,.i absolutely will never cheat on my mate.i love animals. i never yell or scream when i'm mad.i'm good at compromising.birthdays are a big deal!,you can tell me secrets and i'll keep them i believe that getting a good workout helps me think through and solve my problems.i always smell good!. i read books when i want to know something. yes i see well in the dark. i know a lot about cars. i've cried during sad movies.i underestimate myself a lot. i am amazed at what i can do or endure when i put my mind and heart to it.i google things i don't know or understand. i'm blown away when i hear outrageous stuff. i don't like being hurt. i'm always on time.i can listen to song i like over and over for days. i wish i didn't have so much stuff! i love laughing and smiling. i wish some of my friends were my family. . it's hard for me to fall asleep if the tv is not on. my house is always clean. i'm lucky in life but not so much in love. the older i get the more scared i am. water is my favorite drink. my favorite color is blue. i always dress nice. i'm not afraid to risk but i am afraid to fail. i want to retire while i'm young. i believe you get back what you put out there. sorry should be the only word you have to say if you are truly sorry. i try to watch what i eat but believe in special treats. \n",
            "\n",
            "if you want to do something fun and/or silly.  if you want good company, a man to vibe with, talk, laugh and feel comfortable, not in rush. start off simply and let things unfold organically.  if you are looking for a sweetheart.  if you want to rest your head on man's shoulder and fall asleep in his arms.  if you want a man to take your hand and help you discover a world of heartfelt trust, intimacy, generosity and love: passionate, devoted, sweet, feels like home, messy, frightening, lose yourself, find yourself all over again, cracked wide open, joyous and call me crazy love.  you want genuine friendship, a man who will always be there for you (read \"long-term relationship\"). women friends and women that i date say that i am \"funny\". i get that a lot. if it has been a grueling long week, i generally like to relax at home: read or watch netflix and then go out saturday. generally though, i try to go out to listen to live music, see a show or whatever. actually, it really all depends on my then-partner and what she is up for on friday night. if she has kids, i am quite ok with staying home and doing the family thing. i spend a lot of time thinking about social justice, how i can make the world a better place and where i am going to travel to next...i travelled to costa rica in january, haiti (volunteering) in march, peru in early may, paris in mid-may (i really miss paris). health, family, friends, love, or the hope of deep, intimate love laughter, coffee. for fun: film, dining, arts, live music (alternative, bluegrass, blues, classical, jazz, r/b) and adele (i dance to her tunes in the shower every morning :), dancing, nature, hiking, kayaking, opera, travel (near and far), poetry, theater, amusement parks, art festivals; watching ballet, modern dance, ice skating and football.  favorite hot spots: san francisco, marin, napa, carmel, big sur; florence, venice, tuscany, paris; costa rica, machu picchu, maui, french west indies...actually, anyplace i am with you. :)  favorite things: laughter, tide pools, sunshine, warm breezes and waters, a shared sunset, a child laughing, hugs, birds singing, coffee and chocolate, good times with friends, walking in a forest, sand between my toes, holding hands and cuddling.  currently reading: why i wake early, rough guide to kenya, rough guide to tanzania, the subject tonight is love, kenya culture smart, full catastrophe living, the essential rumi.  read in the last 12-months: the power of now, sex at dawn, we bought a zoo, gilgamesh decoded, pink boots and machette, anais nin, slow sex, herodotus, she comes first, ruth stone, wordsworth, marie howe, robert pinsky, the heart of darkness, harry potter and the deathly hallows, the way of zen, the company we keep, zen and the art of motorcycle maintenance, walden, moby dick,the tale of two cities. let me guess, it is my big beautiful smile? :) listening...and kissing. no, really! past girlfriends have told me that i was a great kisser. now, maybe they were just being nice...then again, i do enjoy kissing a woman all over and driving her mad with kisses. i am trying to deepen my self-awareness and appreciation of this life journey. i am also trying to fathom the essential nature of life and how to move in this life with wonder, appreciation and love.  i now try to live my life to the fullest, including helping others...this year i volunteered in haiti. i am now studying french for a return trip to haiti. i also donate to other charities and local arts, including the berkeley rep and symphony and cal performances...i work, save money, donate, travel and volunteer until i am nearly broke (i don't let my cash drop below $100k). then, i repeat.  of course, i open to changing my life for the right woman. \"...lovers don't finally meet somewhere, they're in each other all along.\" ~rumi  \"i thrive on deep, real connection that continues to deepen and grow over time. i believe loving is what makes life worth living. \" ~writings from a woman friend.  i am dying for companionship, a meeting of the minds...and a hug:  -if we click on the phone, i want to actually meet, maybe date for real. i also like going out a couple of times a week or more and talking on the phone, emailing or texting when we are apart.  -if our hearts click, i expect nothing less than deep and intense emotional and physical connection, intimacy and heartfelt love.  \"in your light, i learn how to love. in your beauty, how to make poems.\" ~rumi  i am seeking a woman who still likes to play and engage in a carefree enjoyment of life. indeed, it would be refreshing to find a woman that laughs out loud in public or a movie theater, who can skip down a set of stairs with me, run along the beach in her bare feet and so on. :)  granted, i am not rugged-looking, but at heart i am a gentleman and a rogue. i will value and devour you...why? because i want a deep connection with you...every single day, i want to brush the hair from your eyes and kiss you like it is the first time and could be the last time. i want to walk by your side, hold your hand, look into your eyes, talk about whatever and kiss your lips. i want to make out with you in the pouring rain. i want to call you when i am away. i want to make you laugh when you are sad. i want to be your best friend and lover and never break your heart. i want to hold you in my arms forever.  i am a man who relishes the cultural riches and natural beauty of the bay area. i approach life with childlike wonder and curiosity about the depths and nuances that make life rich. i am equally at home in urban settings or wilderness, enjoying art, theater, film, live music, dancing, and cafes as well as hiking, beaches at sunset, the nooks and crannies of the bay area and cozy evenings at home.  i am also casual, non-materialistic, low-key and easy-going: a laid-back man who can dress up when required. i am not a pollyanna, but i love sunshine, flowers, nature, romance, happy endings, couples falling in love, children and so on.  i am willing to try new and different things. for example, a friend took me to an improve comedy class in december. among other things, i pretended to be a dancing ballerina. :)  i am often spontaneous as well. for example, this summer i was having lunch with woman friend at the embarcadero where there was zipline setup for the day. despite my fear of heights, i rode the zipline, and i laughed all the way down the line.  my personality i am not like other men. i am an enfj, \"the giver\"...enfj's main interest in life is giving love and support. naturally, i enjoy heartfelt emotional intimacy with a woman that i love. i am also emotionally giving and love to give and receive affection.  moreover, i am a gentleman who enjoys making a woman feel feminine and valued. i also try to find the good in things and have a great night out even if everything is not perfect. a night starting with a romantic french dinner and a planned art gallery opening can end instead with us swing dancing to a hot blues band.  i tend to do well with women who are psychologically aware and thoughtful. i also seem to get along better with women who read and/or write poetry...and, oh yeah, i am romantic. so, if a woman isn't romantic, we won't get along.  i am also secure in my sexuality and lgbt friendly.  *note1 if you want to know more about me, my facebook username is hotjazzandblues . almost everything is public access.  *note2 for the photo with the blond, she was model at fashion show i attended. my then-date took the photo.  *note3 !!! i like cats, but i am allergic to them. i can date a woman with a cat as long as the cat does not come on dates with us. :) \n",
            "\n"
          ]
        }
      ]
    },
    {
      "cell_type": "code",
      "source": [
        "text = ['I am a programmer with a beard']\n",
        "\n",
        "vectorizer = CountVectorizer(min_df=best_min_df,\n",
        "                             vocabulary=vectorizer.get_feature_names())\n",
        "x = vectorizer.fit_transform(text)\n",
        "prob = clf.predict_proba(vectorizer.transform(text))\n",
        "man_prob = prob[0, 1]\n",
        "woman_prob = prob[0, 0]\n",
        "man_prob = ('%.2f' % (100*man_prob))\n",
        "woman_prob = ('%.2f' % (100*woman_prob))\n",
        "# Prediction\n",
        "print(\"Text/Essay: \", text)\n",
        "print('')\n",
        "if clf.predict(x) == 1:\n",
        "    print(\"This is\", man_prob, \"percent likely from a man's essay\")\n",
        "else:\n",
        "    print(\"This is\", woman_prob, \"percent likely from a woman's essay\")"
      ],
      "metadata": {
        "colab": {
          "base_uri": "https://localhost:8080/"
        },
        "id": "ZnmhFvVSPl2V",
        "outputId": "0824311f-8b3a-4988-8211-a2d0a858ba0a"
      },
      "execution_count": null,
      "outputs": [
        {
          "output_type": "stream",
          "name": "stdout",
          "text": [
            "Text/Essay:  ['I am a programmer with a beard']\n",
            "\n",
            "This is 74.94 percent likely from a man's essay\n"
          ]
        },
        {
          "output_type": "stream",
          "name": "stderr",
          "text": [
            "/usr/local/lib/python3.7/dist-packages/sklearn/utils/deprecation.py:87: FutureWarning: Function get_feature_names is deprecated; get_feature_names is deprecated in 1.0 and will be removed in 1.2. Please use get_feature_names_out instead.\n",
            "  warnings.warn(msg, category=FutureWarning)\n"
          ]
        }
      ]
    },
    {
      "cell_type": "code",
      "source": [
        "text = ['I like lipgloss and lipstick']\n",
        "\n",
        "vectorizer = CountVectorizer(min_df=best_min_df,\n",
        "                             vocabulary=vectorizer.get_feature_names())\n",
        "x = vectorizer.fit_transform(text)\n",
        "prob = clf.predict_proba(vectorizer.transform(text))\n",
        "man_prob = prob[0, 1]\n",
        "woman_prob = prob[0, 0]\n",
        "man_prob = ('%.2f' % (100*man_prob))\n",
        "woman_prob = ('%.2f' % (100*woman_prob))\n",
        "# Prediction\n",
        "print(\"Text/Essay: \", text)\n",
        "print('')\n",
        "if clf.predict(x) == 1:\n",
        "    print(\"This is\", man_prob, \"percent likely from a man's essay\")\n",
        "else:\n",
        "    print(\"This is\", woman_prob, \"percent likely from a woman's essay\")\n"
      ],
      "metadata": {
        "colab": {
          "base_uri": "https://localhost:8080/"
        },
        "id": "SBrDlRetPorx",
        "outputId": "1d795380-408b-4b0a-bba2-8819333f6245"
      },
      "execution_count": null,
      "outputs": [
        {
          "output_type": "stream",
          "name": "stdout",
          "text": [
            "Text/Essay:  ['I like lipgloss and lipstick']\n",
            "\n",
            "This is 59.75 percent likely from a man's essay\n"
          ]
        },
        {
          "output_type": "stream",
          "name": "stderr",
          "text": [
            "/usr/local/lib/python3.7/dist-packages/sklearn/utils/deprecation.py:87: FutureWarning: Function get_feature_names is deprecated; get_feature_names is deprecated in 1.0 and will be removed in 1.2. Please use get_feature_names_out instead.\n",
            "  warnings.warn(msg, category=FutureWarning)\n"
          ]
        }
      ]
    },
    {
      "cell_type": "code",
      "source": [
        "text = ['I like computers']\n",
        "vectorizer = CountVectorizer(min_df=best_min_df,\n",
        "                             vocabulary=vectorizer.get_feature_names())\n",
        "x = vectorizer.fit_transform(text)\n",
        "prob = clf.predict_proba(vectorizer.transform(text))\n",
        "man_prob = prob[0, 1]\n",
        "woman_prob = prob[0, 0]\n",
        "man_prob = ('%.2f' % (100*man_prob))\n",
        "woman_prob = ('%.2f' % (100*woman_prob))\n",
        "# Prediction\n",
        "print(\"Text/Essay: \", text)\n",
        "print('')\n",
        "if clf.predict(x) == 1:\n",
        "    print(\"This is\", man_prob, \"percent likely from a man's essay\")\n",
        "else:\n",
        "    print(\"This is\", woman_prob, \"percent likely from a woman's essay\")"
      ],
      "metadata": {
        "colab": {
          "base_uri": "https://localhost:8080/"
        },
        "id": "dUXrXZxQQaAq",
        "outputId": "8eb0b112-5684-4adc-ce65-33e3f19bdb8b"
      },
      "execution_count": null,
      "outputs": [
        {
          "output_type": "stream",
          "name": "stdout",
          "text": [
            "Text/Essay:  ['I like computers']\n",
            "\n",
            "This is 85.87 percent likely from a man's essay\n"
          ]
        },
        {
          "output_type": "stream",
          "name": "stderr",
          "text": [
            "/usr/local/lib/python3.7/dist-packages/sklearn/utils/deprecation.py:87: FutureWarning: Function get_feature_names is deprecated; get_feature_names is deprecated in 1.0 and will be removed in 1.2. Please use get_feature_names_out instead.\n",
            "  warnings.warn(msg, category=FutureWarning)\n"
          ]
        }
      ]
    },
    {
      "cell_type": "code",
      "source": [
        "text = ['I hate computers']\n",
        "vectorizer = CountVectorizer(min_df=best_min_df,\n",
        "                             vocabulary=vectorizer.get_feature_names())\n",
        "x = vectorizer.fit_transform(text)\n",
        "prob = clf.predict_proba(vectorizer.transform(text))\n",
        "man_prob = prob[0, 1]\n",
        "woman_prob = prob[0, 0]\n",
        "man_prob = ('%.2f' % (100*man_prob))\n",
        "woman_prob = ('%.2f' % (100*woman_prob))\n",
        "# Prediction\n",
        "print(\"Text/Essay: \", text)\n",
        "print('')\n",
        "if clf.predict(x) == 1:\n",
        "    print(\"This is\", man_prob, \"percent likely from a man's essay\")\n",
        "else:\n",
        "    print(\"This is\", woman_prob, \"percent likely from a woman's essay\")"
      ],
      "metadata": {
        "colab": {
          "base_uri": "https://localhost:8080/"
        },
        "id": "gmD4qIUdQ3ee",
        "outputId": "3fcc2893-5892-4a36-eb75-7b5777073fc0"
      },
      "execution_count": null,
      "outputs": [
        {
          "output_type": "stream",
          "name": "stdout",
          "text": [
            "Text/Essay:  ['I hate computers']\n",
            "\n",
            "This is 83.32 percent likely from a man's essay\n"
          ]
        },
        {
          "output_type": "stream",
          "name": "stderr",
          "text": [
            "/usr/local/lib/python3.7/dist-packages/sklearn/utils/deprecation.py:87: FutureWarning: Function get_feature_names is deprecated; get_feature_names is deprecated in 1.0 and will be removed in 1.2. Please use get_feature_names_out instead.\n",
            "  warnings.warn(msg, category=FutureWarning)\n"
          ]
        }
      ]
    },
    {
      "cell_type": "code",
      "source": [
        "text = ['hate']\n",
        "vectorizer = CountVectorizer(min_df=best_min_df,\n",
        "                             vocabulary=vectorizer.get_feature_names())\n",
        "x = vectorizer.fit_transform(text)\n",
        "prob = clf.predict_proba(vectorizer.transform(text))\n",
        "man_prob = prob[0, 1]\n",
        "woman_prob = prob[0, 0]\n",
        "man_prob = ('%.2f' % (100*man_prob))\n",
        "woman_prob = ('%.2f' % (100*woman_prob))\n",
        "# Prediction\n",
        "print(\"Text/Essay: \", text)\n",
        "print('')\n",
        "if clf.predict(x) == 1:\n",
        "    print(\"This is\", man_prob, \"percent likely from a man's essay\")\n",
        "else:\n",
        "    print(\"This is\", woman_prob, \"percent likely from a woman's essay\")"
      ],
      "metadata": {
        "colab": {
          "base_uri": "https://localhost:8080/"
        },
        "id": "ZQzh-7a7Q-do",
        "outputId": "38b24606-3d16-4086-e266-8815a9e988d9"
      },
      "execution_count": null,
      "outputs": [
        {
          "output_type": "stream",
          "name": "stdout",
          "text": [
            "Text/Essay:  ['hate']\n",
            "\n",
            "This is 56.54 percent likely from a man's essay\n"
          ]
        },
        {
          "output_type": "stream",
          "name": "stderr",
          "text": [
            "/usr/local/lib/python3.7/dist-packages/sklearn/utils/deprecation.py:87: FutureWarning: Function get_feature_names is deprecated; get_feature_names is deprecated in 1.0 and will be removed in 1.2. Please use get_feature_names_out instead.\n",
            "  warnings.warn(msg, category=FutureWarning)\n"
          ]
        }
      ]
    },
    {
      "cell_type": "code",
      "source": [
        "text = ['like']\n",
        "vectorizer = CountVectorizer(min_df=best_min_df,\n",
        "                             vocabulary=vectorizer.get_feature_names())\n",
        "x = vectorizer.fit_transform(text)\n",
        "prob = clf.predict_proba(vectorizer.transform(text))\n",
        "man_prob = prob[0, 1]\n",
        "woman_prob = prob[0, 0]\n",
        "man_prob = ('%.2f' % (100*man_prob))\n",
        "woman_prob = ('%.2f' % (100*woman_prob))\n",
        "# Prediction\n",
        "print(\"Text/Essay: \", text)\n",
        "print('')\n",
        "if clf.predict(x) == 1:\n",
        "    print(\"This is\", man_prob, \"percent likely from a man's essay\")\n",
        "else:\n",
        "    print(\"This is\", woman_prob, \"percent likely from a woman's essay\")"
      ],
      "metadata": {
        "colab": {
          "base_uri": "https://localhost:8080/"
        },
        "id": "C8hvYIXzRNyt",
        "outputId": "69f91cf7-8fab-46fc-e224-c2efe74435d8"
      },
      "execution_count": null,
      "outputs": [
        {
          "output_type": "stream",
          "name": "stdout",
          "text": [
            "Text/Essay:  ['like']\n",
            "\n",
            "This is 61.28 percent likely from a man's essay\n"
          ]
        },
        {
          "output_type": "stream",
          "name": "stderr",
          "text": [
            "/usr/local/lib/python3.7/dist-packages/sklearn/utils/deprecation.py:87: FutureWarning: Function get_feature_names is deprecated; get_feature_names is deprecated in 1.0 and will be removed in 1.2. Please use get_feature_names_out instead.\n",
            "  warnings.warn(msg, category=FutureWarning)\n"
          ]
        }
      ]
    },
    {
      "cell_type": "code",
      "source": [
        "vectorizer = CountVectorizer(ngram_range=(1,2),min_df=best_min_df)\n",
        "X, y = make_xy(essay_sex, vectorizer)\n",
        "xtrain=X[mask]\n",
        "ytrain=y[mask]\n",
        "xtest=X[~mask]\n",
        "ytest=y[~mask]\n",
        "\n",
        "clf = MultinomialNB(alpha=best_alpha).fit(xtrain, ytrain)\n",
        "\n",
        "training_accuracy = clf.score(xtrain, ytrain)\n",
        "test_accuracy = clf.score(xtest, ytest)\n",
        "\n",
        "print(\"Accuracy on training data: {:2f}\".format(training_accuracy))\n",
        "print(\"Accuracy on test data:     {:2f}\".format(test_accuracy))\n",
        "\n",
        "#ngramları kullanıp tekrar vektörleştirdik"
      ],
      "metadata": {
        "colab": {
          "base_uri": "https://localhost:8080/"
        },
        "id": "QbjVObIVRTD1",
        "outputId": "fe0876ae-c3af-4fa3-ad06-c22d837b74ef"
      },
      "execution_count": null,
      "outputs": [
        {
          "output_type": "stream",
          "name": "stderr",
          "text": [
            "/usr/local/lib/python3.7/dist-packages/ipykernel_launcher.py:10: DeprecationWarning: `np.int` is a deprecated alias for the builtin `int`. To silence this warning, use `int` by itself. Doing this will not modify any behavior and is safe. When replacing `np.int`, you may wish to use e.g. `np.int64` or `np.int32` to specify the precision. If you wish to review your current use, check the release note link for additional information.\n",
            "Deprecated in NumPy 1.20; for more details and guidance: https://numpy.org/devdocs/release/1.20.0-notes.html#deprecations\n",
            "  # Remove the CWD from sys.path while we load stuff.\n"
          ]
        },
        {
          "output_type": "stream",
          "name": "stdout",
          "text": [
            "Accuracy on training data: 0.750723\n",
            "Accuracy on test data:     0.732282\n"
          ]
        }
      ]
    },
    {
      "cell_type": "code",
      "source": [
        "vectorizer = CountVectorizer(ngram_range=(2,2),min_df=best_min_df)\n",
        "X, y = make_xy(essay_sex, vectorizer)\n",
        "xtrain=X[mask]\n",
        "ytrain=y[mask]\n",
        "xtest=X[~mask]\n",
        "ytest=y[~mask]\n",
        "\n",
        "clf = MultinomialNB(alpha=best_alpha).fit(xtrain, ytrain)\n",
        "\n",
        "training_accuracy = clf.score(xtrain, ytrain)\n",
        "test_accuracy = clf.score(xtest, ytest)\n",
        "\n",
        "print(\"Accuracy on training data: {:2f}\".format(training_accuracy))\n",
        "print(\"Accuracy on test data:     {:2f}\".format(test_accuracy))"
      ],
      "metadata": {
        "colab": {
          "base_uri": "https://localhost:8080/"
        },
        "id": "4R0ezpAURgtU",
        "outputId": "57410b28-6451-4df0-e27a-3680d304c879"
      },
      "execution_count": null,
      "outputs": [
        {
          "output_type": "stream",
          "name": "stderr",
          "text": [
            "/usr/local/lib/python3.7/dist-packages/ipykernel_launcher.py:10: DeprecationWarning: `np.int` is a deprecated alias for the builtin `int`. To silence this warning, use `int` by itself. Doing this will not modify any behavior and is safe. When replacing `np.int`, you may wish to use e.g. `np.int64` or `np.int32` to specify the precision. If you wish to review your current use, check the release note link for additional information.\n",
            "Deprecated in NumPy 1.20; for more details and guidance: https://numpy.org/devdocs/release/1.20.0-notes.html#deprecations\n",
            "  # Remove the CWD from sys.path while we load stuff.\n"
          ]
        },
        {
          "output_type": "stream",
          "name": "stdout",
          "text": [
            "Accuracy on training data: 0.719417\n",
            "Accuracy on test data:     0.695868\n"
          ]
        }
      ]
    },
    {
      "cell_type": "code",
      "source": [
        "from sklearn.ensemble import RandomForestClassifier\n",
        "\n",
        "vectorizer = CountVectorizer(min_df=best_min_df)\n",
        "X, y = make_xy(essay_sex, vectorizer)\n",
        "xtrain=X[mask]\n",
        "ytrain=y[mask]\n",
        "xtest=X[~mask]\n",
        "ytest=y[~mask]\n",
        "\n",
        "rforest = RandomForestClassifier()\n",
        "clf = rforest.fit(xtrain,ytrain)\n",
        "\n",
        "training_accuracy = clf.score(xtrain, ytrain)\n",
        "test_accuracy = clf.score(xtest, ytest)\n",
        "\n",
        "print(\"Accuracy on training data: {:2f}\".format(training_accuracy))\n",
        "print(\"Accuracy on test data:     {:2f}\".format(test_accuracy))"
      ],
      "metadata": {
        "colab": {
          "base_uri": "https://localhost:8080/"
        },
        "id": "em-ddhb2Ro1Q",
        "outputId": "73666f3c-ca61-499b-99f7-b2af8d0aa2d7"
      },
      "execution_count": null,
      "outputs": [
        {
          "output_type": "stream",
          "name": "stderr",
          "text": [
            "/usr/local/lib/python3.7/dist-packages/ipykernel_launcher.py:10: DeprecationWarning: `np.int` is a deprecated alias for the builtin `int`. To silence this warning, use `int` by itself. Doing this will not modify any behavior and is safe. When replacing `np.int`, you may wish to use e.g. `np.int64` or `np.int32` to specify the precision. If you wish to review your current use, check the release note link for additional information.\n",
            "Deprecated in NumPy 1.20; for more details and guidance: https://numpy.org/devdocs/release/1.20.0-notes.html#deprecations\n",
            "  # Remove the CWD from sys.path while we load stuff.\n"
          ]
        },
        {
          "output_type": "stream",
          "name": "stdout",
          "text": [
            "Accuracy on training data: 0.987100\n",
            "Accuracy on test data:     0.730256\n"
          ]
        }
      ]
    },
    {
      "cell_type": "code",
      "source": [
        "from sklearn.feature_extraction.text import TfidfVectorizer\n",
        "\n",
        "vectorizer = TfidfVectorizer(min_df=best_min_df)\n",
        "X, y = make_xy(essay_sex, vectorizer)\n",
        "xtrain=X[mask]\n",
        "ytrain=y[mask]\n",
        "xtest=X[~mask]\n",
        "ytest=y[~mask]\n",
        "\n",
        "clf = MultinomialNB(alpha=best_alpha).fit(xtrain, ytrain)\n",
        "\n",
        "training_accuracy = clf.score(xtrain, ytrain)\n",
        "test_accuracy = clf.score(xtest, ytest)\n",
        "\n",
        "print(\"Accuracy on training data: {:2f}\".format(training_accuracy))\n",
        "print(\"Accuracy on test data:     {:2f}\".format(test_accuracy))"
      ],
      "metadata": {
        "colab": {
          "base_uri": "https://localhost:8080/"
        },
        "id": "qnNCC9exRz7r",
        "outputId": "e71c67c8-1603-47ec-957d-3223f7c40982"
      },
      "execution_count": null,
      "outputs": [
        {
          "output_type": "stream",
          "name": "stderr",
          "text": [
            "/usr/local/lib/python3.7/dist-packages/ipykernel_launcher.py:10: DeprecationWarning: `np.int` is a deprecated alias for the builtin `int`. To silence this warning, use `int` by itself. Doing this will not modify any behavior and is safe. When replacing `np.int`, you may wish to use e.g. `np.int64` or `np.int32` to specify the precision. If you wish to review your current use, check the release note link for additional information.\n",
            "Deprecated in NumPy 1.20; for more details and guidance: https://numpy.org/devdocs/release/1.20.0-notes.html#deprecations\n",
            "  # Remove the CWD from sys.path while we load stuff.\n"
          ]
        },
        {
          "output_type": "stream",
          "name": "stdout",
          "text": [
            "Accuracy on training data: 0.595140\n",
            "Accuracy on test data:     0.598851\n"
          ]
        }
      ]
    },
    {
      "cell_type": "code",
      "source": [
        "from sklearn.feature_extraction.text import TfidfVectorizer\n",
        "\n",
        "vectorizer = TfidfVectorizer(ngram_range=(1,2), min_df=best_min_df)\n",
        "X, y = make_xy(essay_sex, vectorizer)\n",
        "xtrain=X[mask]\n",
        "ytrain=y[mask]\n",
        "xtest=X[~mask]\n",
        "ytest=y[~mask]\n",
        "\n",
        "clf = MultinomialNB(alpha=best_alpha).fit(xtrain, ytrain)\n",
        "\n",
        "training_accuracy = clf.score(xtrain, ytrain)\n",
        "test_accuracy = clf.score(xtest, ytest)\n",
        "\n",
        "print(\"Accuracy on training data: {:2f}\".format(training_accuracy))\n",
        "print(\"Accuracy on test data:     {:2f}\".format(test_accuracy))"
      ],
      "metadata": {
        "colab": {
          "base_uri": "https://localhost:8080/"
        },
        "id": "00B_myO9SL0d",
        "outputId": "536f9502-ae0e-4ee0-a8c3-61aada9def08"
      },
      "execution_count": null,
      "outputs": [
        {
          "output_type": "stream",
          "name": "stderr",
          "text": [
            "/usr/local/lib/python3.7/dist-packages/ipykernel_launcher.py:10: DeprecationWarning: `np.int` is a deprecated alias for the builtin `int`. To silence this warning, use `int` by itself. Doing this will not modify any behavior and is safe. When replacing `np.int`, you may wish to use e.g. `np.int64` or `np.int32` to specify the precision. If you wish to review your current use, check the release note link for additional information.\n",
            "Deprecated in NumPy 1.20; for more details and guidance: https://numpy.org/devdocs/release/1.20.0-notes.html#deprecations\n",
            "  # Remove the CWD from sys.path while we load stuff.\n"
          ]
        },
        {
          "output_type": "stream",
          "name": "stdout",
          "text": [
            "Accuracy on training data: 0.595029\n",
            "Accuracy on test data:     0.598828\n"
          ]
        }
      ]
    }
  ]
}